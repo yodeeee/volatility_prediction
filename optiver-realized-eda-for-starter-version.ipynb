{
 "cells": [
  {
   "cell_type": "markdown",
   "metadata": {},
   "source": [
    "# Optiver Realized Volatility Prediction\n",
    "データサイエンスのスキルを応用して、金融市場を改善します"
   ]
  },
  {
   "cell_type": "code",
   "execution_count": 1,
   "metadata": {
    "execution": {
     "iopub.execute_input": "2021-06-30T14:41:57.184019Z",
     "iopub.status.busy": "2021-06-30T14:41:57.183355Z",
     "iopub.status.idle": "2021-06-30T14:41:57.192571Z",
     "shell.execute_reply": "2021-06-30T14:41:57.191859Z",
     "shell.execute_reply.started": "2021-06-30T14:41:57.183927Z"
    }
   },
   "outputs": [],
   "source": [
    "import pandas as pd\n",
    "import numpy as np\n",
    "import matplotlib.pyplot as plt"
   ]
  },
  {
   "cell_type": "code",
   "execution_count": 5,
   "metadata": {
    "scrolled": true
   },
   "outputs": [
    {
     "name": "stdout",
     "output_type": "stream",
     "text": [
      "Available Themes: \r\n",
      "   chesterish\r\n",
      "   grade3\r\n",
      "   gruvboxd\r\n",
      "   gruvboxl\r\n",
      "   monokai\r\n",
      "   oceans16\r\n",
      "   onedork\r\n",
      "   solarizedd\r\n",
      "   solarizedl\r\n"
     ]
    }
   ],
   "source": [
    "! jt -l"
   ]
  },
  {
   "cell_type": "code",
   "execution_count": 10,
   "metadata": {},
   "outputs": [],
   "source": [
    "! jt -t monokai"
   ]
  },
  {
   "cell_type": "markdown",
   "metadata": {},
   "source": [
    "# 1. 何を予測するか(submission.csvから見ます)"
   ]
  },
  {
   "cell_type": "code",
   "execution_count": 14,
   "metadata": {
    "execution": {
     "iopub.execute_input": "2021-06-30T14:41:57.194179Z",
     "iopub.status.busy": "2021-06-30T14:41:57.19375Z",
     "iopub.status.idle": "2021-06-30T14:41:57.23505Z",
     "shell.execute_reply": "2021-06-30T14:41:57.234155Z",
     "shell.execute_reply.started": "2021-06-30T14:41:57.194112Z"
    }
   },
   "outputs": [
    {
     "data": {
      "text/html": [
       "<div>\n",
       "<style scoped>\n",
       "    .dataframe tbody tr th:only-of-type {\n",
       "        vertical-align: middle;\n",
       "    }\n",
       "\n",
       "    .dataframe tbody tr th {\n",
       "        vertical-align: top;\n",
       "    }\n",
       "\n",
       "    .dataframe thead th {\n",
       "        text-align: right;\n",
       "    }\n",
       "</style>\n",
       "<table border=\"1\" class=\"dataframe\">\n",
       "  <thead>\n",
       "    <tr style=\"text-align: right;\">\n",
       "      <th></th>\n",
       "      <th>row_id</th>\n",
       "      <th>target</th>\n",
       "    </tr>\n",
       "  </thead>\n",
       "  <tbody>\n",
       "    <tr>\n",
       "      <th>0</th>\n",
       "      <td>0-4</td>\n",
       "      <td>0.003048</td>\n",
       "    </tr>\n",
       "    <tr>\n",
       "      <th>1</th>\n",
       "      <td>0-32</td>\n",
       "      <td>0.003048</td>\n",
       "    </tr>\n",
       "    <tr>\n",
       "      <th>2</th>\n",
       "      <td>0-34</td>\n",
       "      <td>0.003048</td>\n",
       "    </tr>\n",
       "  </tbody>\n",
       "</table>\n",
       "</div>"
      ],
      "text/plain": [
       "  row_id    target\n",
       "0    0-4  0.003048\n",
       "1   0-32  0.003048\n",
       "2   0-34  0.003048"
      ]
     },
     "execution_count": 14,
     "metadata": {},
     "output_type": "execute_result"
    }
   ],
   "source": [
    "sample = pd.read_csv(\"./input_data/sample_submission.csv\")\n",
    "sample"
   ]
  },
  {
   "cell_type": "markdown",
   "metadata": {},
   "source": [
    "### row_idとtargetしかありません。\n",
    "### targetはボラティリティ(価格変動の度合い)でそれを予測するコンペなのだと思います。\n",
    "### row_idとは何かは次を参照。"
   ]
  },
  {
   "cell_type": "markdown",
   "metadata": {},
   "source": [
    "# 2. 何から予測するか(test.csvから見ます)"
   ]
  },
  {
   "cell_type": "code",
   "execution_count": 16,
   "metadata": {
    "execution": {
     "iopub.execute_input": "2021-06-30T14:41:57.237077Z",
     "iopub.status.busy": "2021-06-30T14:41:57.236786Z",
     "iopub.status.idle": "2021-06-30T14:41:57.253917Z",
     "shell.execute_reply": "2021-06-30T14:41:57.253193Z",
     "shell.execute_reply.started": "2021-06-30T14:41:57.237048Z"
    }
   },
   "outputs": [
    {
     "data": {
      "text/html": [
       "<div>\n",
       "<style scoped>\n",
       "    .dataframe tbody tr th:only-of-type {\n",
       "        vertical-align: middle;\n",
       "    }\n",
       "\n",
       "    .dataframe tbody tr th {\n",
       "        vertical-align: top;\n",
       "    }\n",
       "\n",
       "    .dataframe thead th {\n",
       "        text-align: right;\n",
       "    }\n",
       "</style>\n",
       "<table border=\"1\" class=\"dataframe\">\n",
       "  <thead>\n",
       "    <tr style=\"text-align: right;\">\n",
       "      <th></th>\n",
       "      <th>stock_id</th>\n",
       "      <th>time_id</th>\n",
       "      <th>row_id</th>\n",
       "    </tr>\n",
       "  </thead>\n",
       "  <tbody>\n",
       "    <tr>\n",
       "      <th>0</th>\n",
       "      <td>0</td>\n",
       "      <td>4</td>\n",
       "      <td>0-4</td>\n",
       "    </tr>\n",
       "    <tr>\n",
       "      <th>1</th>\n",
       "      <td>0</td>\n",
       "      <td>32</td>\n",
       "      <td>0-32</td>\n",
       "    </tr>\n",
       "    <tr>\n",
       "      <th>2</th>\n",
       "      <td>0</td>\n",
       "      <td>34</td>\n",
       "      <td>0-34</td>\n",
       "    </tr>\n",
       "  </tbody>\n",
       "</table>\n",
       "</div>"
      ],
      "text/plain": [
       "   stock_id  time_id row_id\n",
       "0         0        4    0-4\n",
       "1         0       32   0-32\n",
       "2         0       34   0-34"
      ]
     },
     "execution_count": 16,
     "metadata": {},
     "output_type": "execute_result"
    }
   ],
   "source": [
    "test = pd.read_csv(\"./input_data/test.csv\")\n",
    "test"
   ]
  },
  {
   "cell_type": "markdown",
   "metadata": {},
   "source": [
    "#### submissionファイルのrow_idはstock_id(株のid)とtime_id(時間のid)を-でつなげたものということがわかる。\n"
   ]
  },
  {
   "cell_type": "markdown",
   "metadata": {},
   "source": [
    "#### さらにtest.csvには、book_test.parquetとtrade_test.parquetというものがついています。今回はstock_id = 0のものだけ。中身を見てみる\n",
    "※　ファイルパスでも開くけど、その上のフォルダまでのpathで開くみたいです。"
   ]
  },
  {
   "cell_type": "code",
   "execution_count": 19,
   "metadata": {
    "execution": {
     "iopub.execute_input": "2021-06-30T14:41:57.256142Z",
     "iopub.status.busy": "2021-06-30T14:41:57.255553Z",
     "iopub.status.idle": "2021-06-30T14:41:57.36184Z",
     "shell.execute_reply": "2021-06-30T14:41:57.360889Z",
     "shell.execute_reply.started": "2021-06-30T14:41:57.256097Z"
    }
   },
   "outputs": [
    {
     "data": {
      "text/html": [
       "<div>\n",
       "<style scoped>\n",
       "    .dataframe tbody tr th:only-of-type {\n",
       "        vertical-align: middle;\n",
       "    }\n",
       "\n",
       "    .dataframe tbody tr th {\n",
       "        vertical-align: top;\n",
       "    }\n",
       "\n",
       "    .dataframe thead th {\n",
       "        text-align: right;\n",
       "    }\n",
       "</style>\n",
       "<table border=\"1\" class=\"dataframe\">\n",
       "  <thead>\n",
       "    <tr style=\"text-align: right;\">\n",
       "      <th></th>\n",
       "      <th>time_id</th>\n",
       "      <th>seconds_in_bucket</th>\n",
       "      <th>bid_price1</th>\n",
       "      <th>ask_price1</th>\n",
       "      <th>bid_price2</th>\n",
       "      <th>ask_price2</th>\n",
       "      <th>bid_size1</th>\n",
       "      <th>ask_size1</th>\n",
       "      <th>bid_size2</th>\n",
       "      <th>ask_size2</th>\n",
       "    </tr>\n",
       "  </thead>\n",
       "  <tbody>\n",
       "    <tr>\n",
       "      <th>0</th>\n",
       "      <td>4</td>\n",
       "      <td>0</td>\n",
       "      <td>1.000049</td>\n",
       "      <td>1.000590</td>\n",
       "      <td>0.999656</td>\n",
       "      <td>1.000639</td>\n",
       "      <td>91</td>\n",
       "      <td>100</td>\n",
       "      <td>100</td>\n",
       "      <td>24</td>\n",
       "    </tr>\n",
       "    <tr>\n",
       "      <th>1</th>\n",
       "      <td>4</td>\n",
       "      <td>1</td>\n",
       "      <td>1.000049</td>\n",
       "      <td>1.000590</td>\n",
       "      <td>0.999656</td>\n",
       "      <td>1.000639</td>\n",
       "      <td>91</td>\n",
       "      <td>100</td>\n",
       "      <td>100</td>\n",
       "      <td>20</td>\n",
       "    </tr>\n",
       "    <tr>\n",
       "      <th>2</th>\n",
       "      <td>4</td>\n",
       "      <td>5</td>\n",
       "      <td>1.000049</td>\n",
       "      <td>1.000639</td>\n",
       "      <td>0.999656</td>\n",
       "      <td>1.000885</td>\n",
       "      <td>290</td>\n",
       "      <td>20</td>\n",
       "      <td>101</td>\n",
       "      <td>15</td>\n",
       "    </tr>\n",
       "  </tbody>\n",
       "</table>\n",
       "</div>"
      ],
      "text/plain": [
       "   time_id  seconds_in_bucket  bid_price1  ask_price1  bid_price2  ask_price2  \\\n",
       "0        4                  0    1.000049    1.000590    0.999656    1.000639   \n",
       "1        4                  1    1.000049    1.000590    0.999656    1.000639   \n",
       "2        4                  5    1.000049    1.000639    0.999656    1.000885   \n",
       "\n",
       "   bid_size1  ask_size1  bid_size2  ask_size2  \n",
       "0         91        100        100         24  \n",
       "1         91        100        100         20  \n",
       "2        290         20        101         15  "
      ]
     },
     "execution_count": 19,
     "metadata": {},
     "output_type": "execute_result"
    }
   ],
   "source": [
    "book_testparquet = pd.read_parquet(\"./input_data/book_test.parquet/stock_id=0\")\n",
    "book_testparquet"
   ]
  },
  {
   "cell_type": "code",
   "execution_count": 20,
   "metadata": {
    "execution": {
     "iopub.execute_input": "2021-06-30T14:41:57.36335Z",
     "iopub.status.busy": "2021-06-30T14:41:57.363041Z",
     "iopub.status.idle": "2021-06-30T14:41:57.38497Z",
     "shell.execute_reply": "2021-06-30T14:41:57.384254Z",
     "shell.execute_reply.started": "2021-06-30T14:41:57.363322Z"
    }
   },
   "outputs": [
    {
     "data": {
      "text/html": [
       "<div>\n",
       "<style scoped>\n",
       "    .dataframe tbody tr th:only-of-type {\n",
       "        vertical-align: middle;\n",
       "    }\n",
       "\n",
       "    .dataframe tbody tr th {\n",
       "        vertical-align: top;\n",
       "    }\n",
       "\n",
       "    .dataframe thead th {\n",
       "        text-align: right;\n",
       "    }\n",
       "</style>\n",
       "<table border=\"1\" class=\"dataframe\">\n",
       "  <thead>\n",
       "    <tr style=\"text-align: right;\">\n",
       "      <th></th>\n",
       "      <th>time_id</th>\n",
       "      <th>seconds_in_bucket</th>\n",
       "      <th>price</th>\n",
       "      <th>size</th>\n",
       "      <th>order_count</th>\n",
       "    </tr>\n",
       "  </thead>\n",
       "  <tbody>\n",
       "    <tr>\n",
       "      <th>0</th>\n",
       "      <td>4</td>\n",
       "      <td>7</td>\n",
       "      <td>1.000344</td>\n",
       "      <td>1</td>\n",
       "      <td>1</td>\n",
       "    </tr>\n",
       "    <tr>\n",
       "      <th>1</th>\n",
       "      <td>4</td>\n",
       "      <td>24</td>\n",
       "      <td>1.000049</td>\n",
       "      <td>100</td>\n",
       "      <td>7</td>\n",
       "    </tr>\n",
       "    <tr>\n",
       "      <th>2</th>\n",
       "      <td>4</td>\n",
       "      <td>27</td>\n",
       "      <td>1.000059</td>\n",
       "      <td>100</td>\n",
       "      <td>3</td>\n",
       "    </tr>\n",
       "  </tbody>\n",
       "</table>\n",
       "</div>"
      ],
      "text/plain": [
       "   time_id  seconds_in_bucket     price  size  order_count\n",
       "0        4                  7  1.000344     1            1\n",
       "1        4                 24  1.000049   100            7\n",
       "2        4                 27  1.000059   100            3"
      ]
     },
     "execution_count": 20,
     "metadata": {},
     "output_type": "execute_result"
    }
   ],
   "source": [
    "trade_testparquet = pd.read_parquet(\"./input_data/trade_test.parquet/stock_id=0\")\n",
    "trade_testparquet"
   ]
  },
  {
   "cell_type": "markdown",
   "metadata": {},
   "source": [
    "#### これらの情報から、株のボラティリティ(価格変動の度合い)を当てるコンペだと思います。\n",
    "#### 以上を踏まえて、各項目の解説を含めてtrain.csvを見ていき,EDAしてお試しでsubmitしていきます。"
   ]
  },
  {
   "cell_type": "markdown",
   "metadata": {},
   "source": [
    "# 3. train.csv"
   ]
  },
  {
   "cell_type": "code",
   "execution_count": 21,
   "metadata": {
    "execution": {
     "iopub.execute_input": "2021-06-30T14:41:57.386622Z",
     "iopub.status.busy": "2021-06-30T14:41:57.386199Z",
     "iopub.status.idle": "2021-06-30T14:41:57.648981Z",
     "shell.execute_reply": "2021-06-30T14:41:57.648247Z",
     "shell.execute_reply.started": "2021-06-30T14:41:57.386572Z"
    }
   },
   "outputs": [
    {
     "data": {
      "text/html": [
       "<div>\n",
       "<style scoped>\n",
       "    .dataframe tbody tr th:only-of-type {\n",
       "        vertical-align: middle;\n",
       "    }\n",
       "\n",
       "    .dataframe tbody tr th {\n",
       "        vertical-align: top;\n",
       "    }\n",
       "\n",
       "    .dataframe thead th {\n",
       "        text-align: right;\n",
       "    }\n",
       "</style>\n",
       "<table border=\"1\" class=\"dataframe\">\n",
       "  <thead>\n",
       "    <tr style=\"text-align: right;\">\n",
       "      <th></th>\n",
       "      <th>stock_id</th>\n",
       "      <th>time_id</th>\n",
       "      <th>target</th>\n",
       "    </tr>\n",
       "  </thead>\n",
       "  <tbody>\n",
       "    <tr>\n",
       "      <th>0</th>\n",
       "      <td>0</td>\n",
       "      <td>5</td>\n",
       "      <td>0.004136</td>\n",
       "    </tr>\n",
       "    <tr>\n",
       "      <th>1</th>\n",
       "      <td>0</td>\n",
       "      <td>11</td>\n",
       "      <td>0.001445</td>\n",
       "    </tr>\n",
       "    <tr>\n",
       "      <th>2</th>\n",
       "      <td>0</td>\n",
       "      <td>16</td>\n",
       "      <td>0.002168</td>\n",
       "    </tr>\n",
       "    <tr>\n",
       "      <th>3</th>\n",
       "      <td>0</td>\n",
       "      <td>31</td>\n",
       "      <td>0.002195</td>\n",
       "    </tr>\n",
       "    <tr>\n",
       "      <th>4</th>\n",
       "      <td>0</td>\n",
       "      <td>62</td>\n",
       "      <td>0.001747</td>\n",
       "    </tr>\n",
       "    <tr>\n",
       "      <th>...</th>\n",
       "      <td>...</td>\n",
       "      <td>...</td>\n",
       "      <td>...</td>\n",
       "    </tr>\n",
       "    <tr>\n",
       "      <th>428927</th>\n",
       "      <td>126</td>\n",
       "      <td>32751</td>\n",
       "      <td>0.003461</td>\n",
       "    </tr>\n",
       "    <tr>\n",
       "      <th>428928</th>\n",
       "      <td>126</td>\n",
       "      <td>32753</td>\n",
       "      <td>0.003113</td>\n",
       "    </tr>\n",
       "    <tr>\n",
       "      <th>428929</th>\n",
       "      <td>126</td>\n",
       "      <td>32758</td>\n",
       "      <td>0.004070</td>\n",
       "    </tr>\n",
       "    <tr>\n",
       "      <th>428930</th>\n",
       "      <td>126</td>\n",
       "      <td>32763</td>\n",
       "      <td>0.003357</td>\n",
       "    </tr>\n",
       "    <tr>\n",
       "      <th>428931</th>\n",
       "      <td>126</td>\n",
       "      <td>32767</td>\n",
       "      <td>0.002090</td>\n",
       "    </tr>\n",
       "  </tbody>\n",
       "</table>\n",
       "<p>428932 rows × 3 columns</p>\n",
       "</div>"
      ],
      "text/plain": [
       "        stock_id  time_id    target\n",
       "0              0        5  0.004136\n",
       "1              0       11  0.001445\n",
       "2              0       16  0.002168\n",
       "3              0       31  0.002195\n",
       "4              0       62  0.001747\n",
       "...          ...      ...       ...\n",
       "428927       126    32751  0.003461\n",
       "428928       126    32753  0.003113\n",
       "428929       126    32758  0.004070\n",
       "428930       126    32763  0.003357\n",
       "428931       126    32767  0.002090\n",
       "\n",
       "[428932 rows x 3 columns]"
      ]
     },
     "execution_count": 21,
     "metadata": {},
     "output_type": "execute_result"
    }
   ],
   "source": [
    "train = pd.read_csv(\"./input_data/train.csv\")\n",
    "train"
   ]
  },
  {
   "cell_type": "markdown",
   "metadata": {},
   "source": [
    "#### とても単純な構成。株のstock_idとtime_id、targetの値が出ています。\n",
    "#### targetはDataに解説あるように、10分間のtotalボラティリティだと思います（これを学習のtargetとします。）"
   ]
  },
  {
   "cell_type": "markdown",
   "metadata": {},
   "source": [
    "# 4. train.parquet"
   ]
  },
  {
   "cell_type": "markdown",
   "metadata": {},
   "source": [
    "#### testデータでの解説と同様に、train.csvに付随したファイルとして、book_train.parquetとtrade_train.parquetいうファイルがついています。\n",
    "#### 例えばtrain.csvの一番上の株の銘柄 stock_id=0のそれぞれのparquetファイルを見てみます。"
   ]
  },
  {
   "cell_type": "markdown",
   "metadata": {},
   "source": [
    "## **4.1 book_train.parquet**\n",
    "\n",
    "\n",
    "#### 市場に投入された最も競争力のある売買注文に関するオーダーブックデータを提供します。\n",
    "#### bookの上位2つのレベルが共有されます。bookの第1レベルは価格面でより競争力があり、第2レベルよりも実行が優先されます。\n"
   ]
  },
  {
   "cell_type": "markdown",
   "metadata": {},
   "source": [
    "******補足(個人的解釈)******\n",
    "\n",
    "オーダーbookデータは予約状況だと思います。この値段まで下がってきたら、買う。上がってきたら売るみたいな予約情報です。"
   ]
  },
  {
   "cell_type": "code",
   "execution_count": 22,
   "metadata": {
    "execution": {
     "iopub.execute_input": "2021-06-30T14:41:57.652317Z",
     "iopub.status.busy": "2021-06-30T14:41:57.651666Z",
     "iopub.status.idle": "2021-06-30T14:41:58.121224Z",
     "shell.execute_reply": "2021-06-30T14:41:58.120208Z",
     "shell.execute_reply.started": "2021-06-30T14:41:57.652271Z"
    }
   },
   "outputs": [
    {
     "data": {
      "text/html": [
       "<div>\n",
       "<style scoped>\n",
       "    .dataframe tbody tr th:only-of-type {\n",
       "        vertical-align: middle;\n",
       "    }\n",
       "\n",
       "    .dataframe tbody tr th {\n",
       "        vertical-align: top;\n",
       "    }\n",
       "\n",
       "    .dataframe thead th {\n",
       "        text-align: right;\n",
       "    }\n",
       "</style>\n",
       "<table border=\"1\" class=\"dataframe\">\n",
       "  <thead>\n",
       "    <tr style=\"text-align: right;\">\n",
       "      <th></th>\n",
       "      <th>time_id</th>\n",
       "      <th>seconds_in_bucket</th>\n",
       "      <th>bid_price1</th>\n",
       "      <th>ask_price1</th>\n",
       "      <th>bid_price2</th>\n",
       "      <th>ask_price2</th>\n",
       "      <th>bid_size1</th>\n",
       "      <th>ask_size1</th>\n",
       "      <th>bid_size2</th>\n",
       "      <th>ask_size2</th>\n",
       "    </tr>\n",
       "  </thead>\n",
       "  <tbody>\n",
       "    <tr>\n",
       "      <th>0</th>\n",
       "      <td>5</td>\n",
       "      <td>0</td>\n",
       "      <td>1.001422</td>\n",
       "      <td>1.002301</td>\n",
       "      <td>1.001370</td>\n",
       "      <td>1.002353</td>\n",
       "      <td>3</td>\n",
       "      <td>226</td>\n",
       "      <td>2</td>\n",
       "      <td>100</td>\n",
       "    </tr>\n",
       "    <tr>\n",
       "      <th>1</th>\n",
       "      <td>5</td>\n",
       "      <td>1</td>\n",
       "      <td>1.001422</td>\n",
       "      <td>1.002301</td>\n",
       "      <td>1.001370</td>\n",
       "      <td>1.002353</td>\n",
       "      <td>3</td>\n",
       "      <td>100</td>\n",
       "      <td>2</td>\n",
       "      <td>100</td>\n",
       "    </tr>\n",
       "    <tr>\n",
       "      <th>2</th>\n",
       "      <td>5</td>\n",
       "      <td>5</td>\n",
       "      <td>1.001422</td>\n",
       "      <td>1.002301</td>\n",
       "      <td>1.001370</td>\n",
       "      <td>1.002405</td>\n",
       "      <td>3</td>\n",
       "      <td>100</td>\n",
       "      <td>2</td>\n",
       "      <td>100</td>\n",
       "    </tr>\n",
       "    <tr>\n",
       "      <th>3</th>\n",
       "      <td>5</td>\n",
       "      <td>6</td>\n",
       "      <td>1.001422</td>\n",
       "      <td>1.002301</td>\n",
       "      <td>1.001370</td>\n",
       "      <td>1.002405</td>\n",
       "      <td>3</td>\n",
       "      <td>126</td>\n",
       "      <td>2</td>\n",
       "      <td>100</td>\n",
       "    </tr>\n",
       "    <tr>\n",
       "      <th>4</th>\n",
       "      <td>5</td>\n",
       "      <td>7</td>\n",
       "      <td>1.001422</td>\n",
       "      <td>1.002301</td>\n",
       "      <td>1.001370</td>\n",
       "      <td>1.002405</td>\n",
       "      <td>3</td>\n",
       "      <td>126</td>\n",
       "      <td>2</td>\n",
       "      <td>100</td>\n",
       "    </tr>\n",
       "    <tr>\n",
       "      <th>...</th>\n",
       "      <td>...</td>\n",
       "      <td>...</td>\n",
       "      <td>...</td>\n",
       "      <td>...</td>\n",
       "      <td>...</td>\n",
       "      <td>...</td>\n",
       "      <td>...</td>\n",
       "      <td>...</td>\n",
       "      <td>...</td>\n",
       "      <td>...</td>\n",
       "    </tr>\n",
       "    <tr>\n",
       "      <th>917548</th>\n",
       "      <td>32767</td>\n",
       "      <td>568</td>\n",
       "      <td>0.998275</td>\n",
       "      <td>0.998754</td>\n",
       "      <td>0.997796</td>\n",
       "      <td>0.998946</td>\n",
       "      <td>90</td>\n",
       "      <td>90</td>\n",
       "      <td>48</td>\n",
       "      <td>28</td>\n",
       "    </tr>\n",
       "    <tr>\n",
       "      <th>917549</th>\n",
       "      <td>32767</td>\n",
       "      <td>569</td>\n",
       "      <td>0.998275</td>\n",
       "      <td>0.998754</td>\n",
       "      <td>0.997892</td>\n",
       "      <td>0.998946</td>\n",
       "      <td>91</td>\n",
       "      <td>90</td>\n",
       "      <td>200</td>\n",
       "      <td>28</td>\n",
       "    </tr>\n",
       "    <tr>\n",
       "      <th>917550</th>\n",
       "      <td>32767</td>\n",
       "      <td>571</td>\n",
       "      <td>0.998275</td>\n",
       "      <td>0.998754</td>\n",
       "      <td>0.997892</td>\n",
       "      <td>0.998946</td>\n",
       "      <td>91</td>\n",
       "      <td>90</td>\n",
       "      <td>100</td>\n",
       "      <td>28</td>\n",
       "    </tr>\n",
       "    <tr>\n",
       "      <th>917551</th>\n",
       "      <td>32767</td>\n",
       "      <td>572</td>\n",
       "      <td>0.998275</td>\n",
       "      <td>0.998754</td>\n",
       "      <td>0.997892</td>\n",
       "      <td>0.998946</td>\n",
       "      <td>92</td>\n",
       "      <td>90</td>\n",
       "      <td>100</td>\n",
       "      <td>28</td>\n",
       "    </tr>\n",
       "    <tr>\n",
       "      <th>917552</th>\n",
       "      <td>32767</td>\n",
       "      <td>582</td>\n",
       "      <td>0.998275</td>\n",
       "      <td>0.998754</td>\n",
       "      <td>0.998179</td>\n",
       "      <td>0.998946</td>\n",
       "      <td>92</td>\n",
       "      <td>90</td>\n",
       "      <td>26</td>\n",
       "      <td>28</td>\n",
       "    </tr>\n",
       "  </tbody>\n",
       "</table>\n",
       "<p>917553 rows × 10 columns</p>\n",
       "</div>"
      ],
      "text/plain": [
       "        time_id  seconds_in_bucket  bid_price1  ask_price1  bid_price2  \\\n",
       "0             5                  0    1.001422    1.002301    1.001370   \n",
       "1             5                  1    1.001422    1.002301    1.001370   \n",
       "2             5                  5    1.001422    1.002301    1.001370   \n",
       "3             5                  6    1.001422    1.002301    1.001370   \n",
       "4             5                  7    1.001422    1.002301    1.001370   \n",
       "...         ...                ...         ...         ...         ...   \n",
       "917548    32767                568    0.998275    0.998754    0.997796   \n",
       "917549    32767                569    0.998275    0.998754    0.997892   \n",
       "917550    32767                571    0.998275    0.998754    0.997892   \n",
       "917551    32767                572    0.998275    0.998754    0.997892   \n",
       "917552    32767                582    0.998275    0.998754    0.998179   \n",
       "\n",
       "        ask_price2  bid_size1  ask_size1  bid_size2  ask_size2  \n",
       "0         1.002353          3        226          2        100  \n",
       "1         1.002353          3        100          2        100  \n",
       "2         1.002405          3        100          2        100  \n",
       "3         1.002405          3        126          2        100  \n",
       "4         1.002405          3        126          2        100  \n",
       "...            ...        ...        ...        ...        ...  \n",
       "917548    0.998946         90         90         48         28  \n",
       "917549    0.998946         91         90        200         28  \n",
       "917550    0.998946         91         90        100         28  \n",
       "917551    0.998946         92         90        100         28  \n",
       "917552    0.998946         92         90         26         28  \n",
       "\n",
       "[917553 rows x 10 columns]"
      ]
     },
     "execution_count": 22,
     "metadata": {},
     "output_type": "execute_result"
    }
   ],
   "source": [
    "book_example = pd.read_parquet('./input_data/book_train.parquet/stock_id=0')\n",
    "book_example"
   ]
  },
  {
   "cell_type": "markdown",
   "metadata": {},
   "source": [
    "Bid（売値） は、買い手が株を買う上で希望する価格で、Ask（買値）は、売り手が株を売る上で希望する価格です。\n",
    "わかりやすく言い換えると、\n",
    "\n",
    "* stock_id : 株の銘柄（どの株か）\n",
    "* time_id : どの時間の情報かのid (submissionファイルのtime_idと連動しています)\n",
    "* seconds_in_bucket : time_idの中で、0からスタートして何秒後か。たぶん予測するのは、10分のtotalなので、seconds_in_bucketは、最大600 secのはず\n",
    "* bid_price1,2 : 株の買値の希望値の１番目と２番目\n",
    "※　(Normalized prices of the most/second most competitive buy level. だから、正確には、１番と２番目に正規化されたレベルの買値。\n",
    "\n",
    "→買値の希望値をみんな出しているけど、それの正規化したときに一番多い値と２番目に多い値と推測。以下askも逆の現象。)\n",
    "\n",
    "\n",
    "* ask_price1,2 : 株の売り値の希望値\n",
    "* bid_size1,2 : 買うのを希望している側の１番目と２番目の株式数\n",
    "* ask_size1,2 : 売るのを希望している側の１番目と２番目の株式数\n",
    "\n",
    "\n",
    "※　parquetはロード時にカテゴリデータ型に強制することに注意が必要らしいです。\n"
   ]
  },
  {
   "cell_type": "markdown",
   "metadata": {},
   "source": [
    "## 4.2 **trade_train.parquet**\n",
    "\n",
    "#### 実際に実行された取引に関するデータが含まれています。\n",
    "#### 通常、市場では、実際の取引よりも受動的な売買意図の更新（bookの更新）が多いため、このファイルは注文書よりもまばらであると予想される場合があります。"
   ]
  },
  {
   "cell_type": "markdown",
   "metadata": {},
   "source": [
    "******補足(個人的解釈)******\n",
    "\n",
    "リアルタイムで実際に取引された量。買い手がこの値段でこの数量買い、売り手がこの値段でこの数量売ったと推測。"
   ]
  },
  {
   "cell_type": "code",
   "execution_count": 23,
   "metadata": {
    "execution": {
     "iopub.execute_input": "2021-06-30T14:41:58.124006Z",
     "iopub.status.busy": "2021-06-30T14:41:58.123595Z",
     "iopub.status.idle": "2021-06-30T14:41:58.174751Z",
     "shell.execute_reply": "2021-06-30T14:41:58.174066Z",
     "shell.execute_reply.started": "2021-06-30T14:41:58.123963Z"
    }
   },
   "outputs": [
    {
     "data": {
      "text/html": [
       "<div>\n",
       "<style scoped>\n",
       "    .dataframe tbody tr th:only-of-type {\n",
       "        vertical-align: middle;\n",
       "    }\n",
       "\n",
       "    .dataframe tbody tr th {\n",
       "        vertical-align: top;\n",
       "    }\n",
       "\n",
       "    .dataframe thead th {\n",
       "        text-align: right;\n",
       "    }\n",
       "</style>\n",
       "<table border=\"1\" class=\"dataframe\">\n",
       "  <thead>\n",
       "    <tr style=\"text-align: right;\">\n",
       "      <th></th>\n",
       "      <th>time_id</th>\n",
       "      <th>seconds_in_bucket</th>\n",
       "      <th>price</th>\n",
       "      <th>size</th>\n",
       "      <th>order_count</th>\n",
       "    </tr>\n",
       "  </thead>\n",
       "  <tbody>\n",
       "    <tr>\n",
       "      <th>0</th>\n",
       "      <td>5</td>\n",
       "      <td>21</td>\n",
       "      <td>1.002301</td>\n",
       "      <td>326</td>\n",
       "      <td>12</td>\n",
       "    </tr>\n",
       "    <tr>\n",
       "      <th>1</th>\n",
       "      <td>5</td>\n",
       "      <td>46</td>\n",
       "      <td>1.002778</td>\n",
       "      <td>128</td>\n",
       "      <td>4</td>\n",
       "    </tr>\n",
       "    <tr>\n",
       "      <th>2</th>\n",
       "      <td>5</td>\n",
       "      <td>50</td>\n",
       "      <td>1.002818</td>\n",
       "      <td>55</td>\n",
       "      <td>1</td>\n",
       "    </tr>\n",
       "    <tr>\n",
       "      <th>3</th>\n",
       "      <td>5</td>\n",
       "      <td>57</td>\n",
       "      <td>1.003155</td>\n",
       "      <td>121</td>\n",
       "      <td>5</td>\n",
       "    </tr>\n",
       "    <tr>\n",
       "      <th>4</th>\n",
       "      <td>5</td>\n",
       "      <td>68</td>\n",
       "      <td>1.003646</td>\n",
       "      <td>4</td>\n",
       "      <td>1</td>\n",
       "    </tr>\n",
       "    <tr>\n",
       "      <th>...</th>\n",
       "      <td>...</td>\n",
       "      <td>...</td>\n",
       "      <td>...</td>\n",
       "      <td>...</td>\n",
       "      <td>...</td>\n",
       "    </tr>\n",
       "    <tr>\n",
       "      <th>123438</th>\n",
       "      <td>32767</td>\n",
       "      <td>471</td>\n",
       "      <td>0.998659</td>\n",
       "      <td>200</td>\n",
       "      <td>3</td>\n",
       "    </tr>\n",
       "    <tr>\n",
       "      <th>123439</th>\n",
       "      <td>32767</td>\n",
       "      <td>517</td>\n",
       "      <td>0.998515</td>\n",
       "      <td>90</td>\n",
       "      <td>1</td>\n",
       "    </tr>\n",
       "    <tr>\n",
       "      <th>123440</th>\n",
       "      <td>32767</td>\n",
       "      <td>523</td>\n",
       "      <td>0.998563</td>\n",
       "      <td>1</td>\n",
       "      <td>1</td>\n",
       "    </tr>\n",
       "    <tr>\n",
       "      <th>123441</th>\n",
       "      <td>32767</td>\n",
       "      <td>542</td>\n",
       "      <td>0.998803</td>\n",
       "      <td>90</td>\n",
       "      <td>4</td>\n",
       "    </tr>\n",
       "    <tr>\n",
       "      <th>123442</th>\n",
       "      <td>32767</td>\n",
       "      <td>567</td>\n",
       "      <td>0.998547</td>\n",
       "      <td>300</td>\n",
       "      <td>3</td>\n",
       "    </tr>\n",
       "  </tbody>\n",
       "</table>\n",
       "<p>123443 rows × 5 columns</p>\n",
       "</div>"
      ],
      "text/plain": [
       "        time_id  seconds_in_bucket     price  size  order_count\n",
       "0             5                 21  1.002301   326           12\n",
       "1             5                 46  1.002778   128            4\n",
       "2             5                 50  1.002818    55            1\n",
       "3             5                 57  1.003155   121            5\n",
       "4             5                 68  1.003646     4            1\n",
       "...         ...                ...       ...   ...          ...\n",
       "123438    32767                471  0.998659   200            3\n",
       "123439    32767                517  0.998515    90            1\n",
       "123440    32767                523  0.998563     1            1\n",
       "123441    32767                542  0.998803    90            4\n",
       "123442    32767                567  0.998547   300            3\n",
       "\n",
       "[123443 rows x 5 columns]"
      ]
     },
     "execution_count": 23,
     "metadata": {},
     "output_type": "execute_result"
    }
   ],
   "source": [
    "trade_example = pd.read_parquet(\"./input_data/trade_train.parquet/stock_id=0\")\n",
    "trade_example"
   ]
  },
  {
   "cell_type": "markdown",
   "metadata": {},
   "source": [
    "* stock_id - 同上。\n",
    "* time_id - 同上。\n",
    "* seconds_in_bucket- 同上。トレードデータとブックデータは同じ時間枠から取得され、トレードデータは一般にまばらであるため、このフィールドは必ずしも0から始まるとは限らないことに注意してください。\n",
    "* price-1秒間に発生する実行済みトランザクションの平均価格。価格は正規化されており、平均は各トランザクションで取引された株式数によって重み付けされています。\n",
    "* size -取引された株式の総数。\n",
    "* order_count -発生している固有の取引注文の数。"
   ]
  },
  {
   "cell_type": "markdown",
   "metadata": {},
   "source": [
    "#### 一番上に示したtestデータもtrainデータと同じ構造です。testデータには、targetだけないので、それを予測します。"
   ]
  },
  {
   "cell_type": "markdown",
   "metadata": {},
   "source": [
    "# 5. EDA"
   ]
  },
  {
   "cell_type": "markdown",
   "metadata": {
    "execution": {
     "iopub.execute_input": "2021-06-28T16:17:32.239337Z",
     "iopub.status.busy": "2021-06-28T16:17:32.238951Z",
     "iopub.status.idle": "2021-06-28T16:17:32.244581Z",
     "shell.execute_reply": "2021-06-28T16:17:32.243275Z",
     "shell.execute_reply.started": "2021-06-28T16:17:32.239307Z"
    }
   },
   "source": [
    "## 5.1 株式ごとの解析\n",
    "### 5.1.1 株の数"
   ]
  },
  {
   "cell_type": "code",
   "execution_count": 24,
   "metadata": {
    "execution": {
     "iopub.execute_input": "2021-06-30T14:41:58.176312Z",
     "iopub.status.busy": "2021-06-30T14:41:58.175829Z",
     "iopub.status.idle": "2021-06-30T14:41:58.189351Z",
     "shell.execute_reply": "2021-06-30T14:41:58.188314Z",
     "shell.execute_reply.started": "2021-06-30T14:41:58.176276Z"
    }
   },
   "outputs": [
    {
     "data": {
      "text/html": [
       "<div>\n",
       "<style scoped>\n",
       "    .dataframe tbody tr th:only-of-type {\n",
       "        vertical-align: middle;\n",
       "    }\n",
       "\n",
       "    .dataframe tbody tr th {\n",
       "        vertical-align: top;\n",
       "    }\n",
       "\n",
       "    .dataframe thead th {\n",
       "        text-align: right;\n",
       "    }\n",
       "</style>\n",
       "<table border=\"1\" class=\"dataframe\">\n",
       "  <thead>\n",
       "    <tr style=\"text-align: right;\">\n",
       "      <th></th>\n",
       "      <th>stock_id</th>\n",
       "      <th>time_id</th>\n",
       "      <th>target</th>\n",
       "    </tr>\n",
       "  </thead>\n",
       "  <tbody>\n",
       "    <tr>\n",
       "      <th>0</th>\n",
       "      <td>0</td>\n",
       "      <td>5</td>\n",
       "      <td>0.004136</td>\n",
       "    </tr>\n",
       "    <tr>\n",
       "      <th>1</th>\n",
       "      <td>0</td>\n",
       "      <td>11</td>\n",
       "      <td>0.001445</td>\n",
       "    </tr>\n",
       "    <tr>\n",
       "      <th>2</th>\n",
       "      <td>0</td>\n",
       "      <td>16</td>\n",
       "      <td>0.002168</td>\n",
       "    </tr>\n",
       "    <tr>\n",
       "      <th>3</th>\n",
       "      <td>0</td>\n",
       "      <td>31</td>\n",
       "      <td>0.002195</td>\n",
       "    </tr>\n",
       "    <tr>\n",
       "      <th>4</th>\n",
       "      <td>0</td>\n",
       "      <td>62</td>\n",
       "      <td>0.001747</td>\n",
       "    </tr>\n",
       "    <tr>\n",
       "      <th>...</th>\n",
       "      <td>...</td>\n",
       "      <td>...</td>\n",
       "      <td>...</td>\n",
       "    </tr>\n",
       "    <tr>\n",
       "      <th>428927</th>\n",
       "      <td>126</td>\n",
       "      <td>32751</td>\n",
       "      <td>0.003461</td>\n",
       "    </tr>\n",
       "    <tr>\n",
       "      <th>428928</th>\n",
       "      <td>126</td>\n",
       "      <td>32753</td>\n",
       "      <td>0.003113</td>\n",
       "    </tr>\n",
       "    <tr>\n",
       "      <th>428929</th>\n",
       "      <td>126</td>\n",
       "      <td>32758</td>\n",
       "      <td>0.004070</td>\n",
       "    </tr>\n",
       "    <tr>\n",
       "      <th>428930</th>\n",
       "      <td>126</td>\n",
       "      <td>32763</td>\n",
       "      <td>0.003357</td>\n",
       "    </tr>\n",
       "    <tr>\n",
       "      <th>428931</th>\n",
       "      <td>126</td>\n",
       "      <td>32767</td>\n",
       "      <td>0.002090</td>\n",
       "    </tr>\n",
       "  </tbody>\n",
       "</table>\n",
       "<p>428932 rows × 3 columns</p>\n",
       "</div>"
      ],
      "text/plain": [
       "        stock_id  time_id    target\n",
       "0              0        5  0.004136\n",
       "1              0       11  0.001445\n",
       "2              0       16  0.002168\n",
       "3              0       31  0.002195\n",
       "4              0       62  0.001747\n",
       "...          ...      ...       ...\n",
       "428927       126    32751  0.003461\n",
       "428928       126    32753  0.003113\n",
       "428929       126    32758  0.004070\n",
       "428930       126    32763  0.003357\n",
       "428931       126    32767  0.002090\n",
       "\n",
       "[428932 rows x 3 columns]"
      ]
     },
     "execution_count": 24,
     "metadata": {},
     "output_type": "execute_result"
    }
   ],
   "source": [
    "train"
   ]
  },
  {
   "cell_type": "code",
   "execution_count": 25,
   "metadata": {
    "execution": {
     "iopub.execute_input": "2021-06-30T14:41:58.191243Z",
     "iopub.status.busy": "2021-06-30T14:41:58.190698Z",
     "iopub.status.idle": "2021-06-30T14:41:58.275709Z",
     "shell.execute_reply": "2021-06-30T14:41:58.274966Z",
     "shell.execute_reply.started": "2021-06-30T14:41:58.19121Z"
    }
   },
   "outputs": [
    {
     "name": "stdout",
     "output_type": "stream",
     "text": [
      "stock_id : 112\n",
      "time_id : 3830\n",
      "target : 414287\n"
     ]
    }
   ],
   "source": [
    "for col in train.columns:\n",
    "    print(col,\":\",len(train[col].unique()))"
   ]
  },
  {
   "cell_type": "markdown",
   "metadata": {},
   "source": [
    "## stock_id(株の銘柄) は112種類、time_idは3830種類、targetは414287種類ある"
   ]
  },
  {
   "cell_type": "markdown",
   "metadata": {},
   "source": [
    "## 5.1.2 株ごとの統計量"
   ]
  },
  {
   "cell_type": "code",
   "execution_count": 26,
   "metadata": {
    "execution": {
     "iopub.execute_input": "2021-06-30T14:41:58.277183Z",
     "iopub.status.busy": "2021-06-30T14:41:58.276757Z",
     "iopub.status.idle": "2021-06-30T14:41:58.337526Z",
     "shell.execute_reply": "2021-06-30T14:41:58.336723Z",
     "shell.execute_reply.started": "2021-06-30T14:41:58.277136Z"
    }
   },
   "outputs": [
    {
     "data": {
      "text/html": [
       "<div>\n",
       "<style scoped>\n",
       "    .dataframe tbody tr th:only-of-type {\n",
       "        vertical-align: middle;\n",
       "    }\n",
       "\n",
       "    .dataframe tbody tr th {\n",
       "        vertical-align: top;\n",
       "    }\n",
       "\n",
       "    .dataframe thead th {\n",
       "        text-align: right;\n",
       "    }\n",
       "</style>\n",
       "<table border=\"1\" class=\"dataframe\">\n",
       "  <thead>\n",
       "    <tr style=\"text-align: right;\">\n",
       "      <th></th>\n",
       "      <th>stock_id</th>\n",
       "      <th>mean</th>\n",
       "      <th>median</th>\n",
       "      <th>std</th>\n",
       "      <th>count</th>\n",
       "      <th>sum</th>\n",
       "    </tr>\n",
       "  </thead>\n",
       "  <tbody>\n",
       "    <tr>\n",
       "      <th>0</th>\n",
       "      <td>0</td>\n",
       "      <td>0.004028</td>\n",
       "      <td>0.003180</td>\n",
       "      <td>0.002855</td>\n",
       "      <td>3830</td>\n",
       "      <td>15.429071</td>\n",
       "    </tr>\n",
       "    <tr>\n",
       "      <th>1</th>\n",
       "      <td>1</td>\n",
       "      <td>0.004362</td>\n",
       "      <td>0.003719</td>\n",
       "      <td>0.002433</td>\n",
       "      <td>3830</td>\n",
       "      <td>16.704962</td>\n",
       "    </tr>\n",
       "    <tr>\n",
       "      <th>2</th>\n",
       "      <td>2</td>\n",
       "      <td>0.002385</td>\n",
       "      <td>0.001748</td>\n",
       "      <td>0.002339</td>\n",
       "      <td>3830</td>\n",
       "      <td>9.133223</td>\n",
       "    </tr>\n",
       "    <tr>\n",
       "      <th>3</th>\n",
       "      <td>3</td>\n",
       "      <td>0.006182</td>\n",
       "      <td>0.005422</td>\n",
       "      <td>0.003201</td>\n",
       "      <td>3830</td>\n",
       "      <td>23.675414</td>\n",
       "    </tr>\n",
       "    <tr>\n",
       "      <th>4</th>\n",
       "      <td>4</td>\n",
       "      <td>0.004197</td>\n",
       "      <td>0.003397</td>\n",
       "      <td>0.002879</td>\n",
       "      <td>3830</td>\n",
       "      <td>16.073408</td>\n",
       "    </tr>\n",
       "    <tr>\n",
       "      <th>...</th>\n",
       "      <td>...</td>\n",
       "      <td>...</td>\n",
       "      <td>...</td>\n",
       "      <td>...</td>\n",
       "      <td>...</td>\n",
       "      <td>...</td>\n",
       "    </tr>\n",
       "    <tr>\n",
       "      <th>107</th>\n",
       "      <td>122</td>\n",
       "      <td>0.003762</td>\n",
       "      <td>0.003176</td>\n",
       "      <td>0.002300</td>\n",
       "      <td>3830</td>\n",
       "      <td>14.407997</td>\n",
       "    </tr>\n",
       "    <tr>\n",
       "      <th>108</th>\n",
       "      <td>123</td>\n",
       "      <td>0.002506</td>\n",
       "      <td>0.001967</td>\n",
       "      <td>0.001816</td>\n",
       "      <td>3830</td>\n",
       "      <td>9.599594</td>\n",
       "    </tr>\n",
       "    <tr>\n",
       "      <th>109</th>\n",
       "      <td>124</td>\n",
       "      <td>0.003691</td>\n",
       "      <td>0.003143</td>\n",
       "      <td>0.001953</td>\n",
       "      <td>3830</td>\n",
       "      <td>14.135579</td>\n",
       "    </tr>\n",
       "    <tr>\n",
       "      <th>110</th>\n",
       "      <td>125</td>\n",
       "      <td>0.002016</td>\n",
       "      <td>0.001575</td>\n",
       "      <td>0.001703</td>\n",
       "      <td>3830</td>\n",
       "      <td>7.719409</td>\n",
       "    </tr>\n",
       "    <tr>\n",
       "      <th>111</th>\n",
       "      <td>126</td>\n",
       "      <td>0.005321</td>\n",
       "      <td>0.004443</td>\n",
       "      <td>0.003179</td>\n",
       "      <td>3830</td>\n",
       "      <td>20.377571</td>\n",
       "    </tr>\n",
       "  </tbody>\n",
       "</table>\n",
       "<p>112 rows × 6 columns</p>\n",
       "</div>"
      ],
      "text/plain": [
       "     stock_id      mean    median       std  count        sum\n",
       "0           0  0.004028  0.003180  0.002855   3830  15.429071\n",
       "1           1  0.004362  0.003719  0.002433   3830  16.704962\n",
       "2           2  0.002385  0.001748  0.002339   3830   9.133223\n",
       "3           3  0.006182  0.005422  0.003201   3830  23.675414\n",
       "4           4  0.004197  0.003397  0.002879   3830  16.073408\n",
       "..        ...       ...       ...       ...    ...        ...\n",
       "107       122  0.003762  0.003176  0.002300   3830  14.407997\n",
       "108       123  0.002506  0.001967  0.001816   3830   9.599594\n",
       "109       124  0.003691  0.003143  0.001953   3830  14.135579\n",
       "110       125  0.002016  0.001575  0.001703   3830   7.719409\n",
       "111       126  0.005321  0.004443  0.003179   3830  20.377571\n",
       "\n",
       "[112 rows x 6 columns]"
      ]
     },
     "execution_count": 26,
     "metadata": {},
     "output_type": "execute_result"
    }
   ],
   "source": [
    "stock = train.groupby(\"stock_id\")[\"target\"].agg([\"mean\",\"median\",\"std\",\"count\",\"sum\"]).reset_index()\n",
    "stock"
   ]
  },
  {
   "cell_type": "markdown",
   "metadata": {},
   "source": [
    "#### mean値とsumだけヒストグラム見てみます。"
   ]
  },
  {
   "cell_type": "code",
   "execution_count": 27,
   "metadata": {
    "execution": {
     "iopub.execute_input": "2021-06-30T14:41:58.339032Z",
     "iopub.status.busy": "2021-06-30T14:41:58.338621Z",
     "iopub.status.idle": "2021-06-30T14:41:58.527756Z",
     "shell.execute_reply": "2021-06-30T14:41:58.526598Z",
     "shell.execute_reply.started": "2021-06-30T14:41:58.338999Z"
    }
   },
   "outputs": [
    {
     "name": "stdout",
     "output_type": "stream",
     "text": [
      "mean value= 0.0038805243039130312\n"
     ]
    },
    {
     "data": {
      "text/plain": [
       "(array([ 5., 25., 25., 22., 18.,  8.,  3.,  4.,  1.,  1.]),\n",
       " array([0.00147492, 0.00219811, 0.0029213 , 0.00364449, 0.00436768,\n",
       "        0.00509087, 0.00581406, 0.00653724, 0.00726043, 0.00798362,\n",
       "        0.00870681]),\n",
       " <BarContainer object of 10 artists>)"
      ]
     },
     "execution_count": 27,
     "metadata": {},
     "output_type": "execute_result"
    },
    {
     "data": {
      "image/png": "[encoded data removed]",
      "text/plain": [
       "<Figure size 432x288 with 1 Axes>"
      ]
     },
     "metadata": {
      "needs_background": "light"
     },
     "output_type": "display_data"
    }
   ],
   "source": [
    "print(\"mean value=\" ,stock[\"mean\"].mean())\n",
    "plt.hist(stock[\"mean\"])"
   ]
  },
  {
   "cell_type": "markdown",
   "metadata": {},
   "source": [
    "## 平均値は0.003とほぼ0に近い"
   ]
  },
  {
   "cell_type": "code",
   "execution_count": 28,
   "metadata": {
    "execution": {
     "iopub.execute_input": "2021-06-30T14:41:58.529235Z",
     "iopub.status.busy": "2021-06-30T14:41:58.528925Z",
     "iopub.status.idle": "2021-06-30T14:41:58.674482Z",
     "shell.execute_reply": "2021-06-30T14:41:58.673478Z",
     "shell.execute_reply.started": "2021-06-30T14:41:58.529195Z"
    }
   },
   "outputs": [
    {
     "name": "stdout",
     "output_type": "stream",
     "text": [
      "sum value= 14.860998424142867\n"
     ]
    },
    {
     "data": {
      "text/plain": [
       "(array([ 5., 25., 25., 22., 18.,  8.,  3.,  4.,  1.,  1.]),\n",
       " array([ 5.64894774,  8.4187619 , 11.18857607, 13.95839023, 16.72820439,\n",
       "        19.49801856, 22.26783272, 25.03764689, 27.80746105, 30.57727522,\n",
       "        33.34708938]),\n",
       " <BarContainer object of 10 artists>)"
      ]
     },
     "execution_count": 28,
     "metadata": {},
     "output_type": "execute_result"
    },
    {
     "data": {
      "image/png": "[encoded data removed]",
      "text/plain": [
       "<Figure size 432x288 with 1 Axes>"
      ]
     },
     "metadata": {
      "needs_background": "light"
     },
     "output_type": "display_data"
    }
   ],
   "source": [
    "print(\"sum value=\" ,stock[\"sum\"].mean())\n",
    "plt.hist(stock[\"sum\"])"
   ]
  },
  {
   "cell_type": "markdown",
   "metadata": {},
   "source": [
    "## この期間のtotalボラティリティは、平均14.8, maxだと30を超える銘柄も存在。"
   ]
  },
  {
   "cell_type": "code",
   "execution_count": null,
   "metadata": {},
   "outputs": [],
   "source": []
  },
  {
   "cell_type": "markdown",
   "metadata": {},
   "source": [
    "--------------以下、stock id = 0のtime_id = 5の10分間のふるまいを見ていきます -------------"
   ]
  },
  {
   "cell_type": "markdown",
   "metadata": {},
   "source": [
    "## 5.2 time_id内でのBid,Ask,実際の取引のふるまい価格の関係"
   ]
  },
  {
   "cell_type": "code",
   "execution_count": 29,
   "metadata": {
    "execution": {
     "iopub.execute_input": "2021-06-30T14:41:58.675971Z",
     "iopub.status.busy": "2021-06-30T14:41:58.67569Z",
     "iopub.status.idle": "2021-06-30T14:41:58.695396Z",
     "shell.execute_reply": "2021-06-30T14:41:58.694262Z",
     "shell.execute_reply.started": "2021-06-30T14:41:58.675945Z"
    }
   },
   "outputs": [
    {
     "data": {
      "text/html": [
       "<div>\n",
       "<style scoped>\n",
       "    .dataframe tbody tr th:only-of-type {\n",
       "        vertical-align: middle;\n",
       "    }\n",
       "\n",
       "    .dataframe tbody tr th {\n",
       "        vertical-align: top;\n",
       "    }\n",
       "\n",
       "    .dataframe thead th {\n",
       "        text-align: right;\n",
       "    }\n",
       "</style>\n",
       "<table border=\"1\" class=\"dataframe\">\n",
       "  <thead>\n",
       "    <tr style=\"text-align: right;\">\n",
       "      <th></th>\n",
       "      <th>time_id</th>\n",
       "      <th>seconds_in_bucket</th>\n",
       "      <th>bid_price1</th>\n",
       "      <th>ask_price1</th>\n",
       "      <th>bid_price2</th>\n",
       "      <th>ask_price2</th>\n",
       "      <th>bid_size1</th>\n",
       "      <th>ask_size1</th>\n",
       "      <th>bid_size2</th>\n",
       "      <th>ask_size2</th>\n",
       "    </tr>\n",
       "  </thead>\n",
       "  <tbody>\n",
       "    <tr>\n",
       "      <th>0</th>\n",
       "      <td>5</td>\n",
       "      <td>0</td>\n",
       "      <td>1.001422</td>\n",
       "      <td>1.002301</td>\n",
       "      <td>1.001370</td>\n",
       "      <td>1.002353</td>\n",
       "      <td>3</td>\n",
       "      <td>226</td>\n",
       "      <td>2</td>\n",
       "      <td>100</td>\n",
       "    </tr>\n",
       "    <tr>\n",
       "      <th>1</th>\n",
       "      <td>5</td>\n",
       "      <td>1</td>\n",
       "      <td>1.001422</td>\n",
       "      <td>1.002301</td>\n",
       "      <td>1.001370</td>\n",
       "      <td>1.002353</td>\n",
       "      <td>3</td>\n",
       "      <td>100</td>\n",
       "      <td>2</td>\n",
       "      <td>100</td>\n",
       "    </tr>\n",
       "    <tr>\n",
       "      <th>2</th>\n",
       "      <td>5</td>\n",
       "      <td>5</td>\n",
       "      <td>1.001422</td>\n",
       "      <td>1.002301</td>\n",
       "      <td>1.001370</td>\n",
       "      <td>1.002405</td>\n",
       "      <td>3</td>\n",
       "      <td>100</td>\n",
       "      <td>2</td>\n",
       "      <td>100</td>\n",
       "    </tr>\n",
       "    <tr>\n",
       "      <th>3</th>\n",
       "      <td>5</td>\n",
       "      <td>6</td>\n",
       "      <td>1.001422</td>\n",
       "      <td>1.002301</td>\n",
       "      <td>1.001370</td>\n",
       "      <td>1.002405</td>\n",
       "      <td>3</td>\n",
       "      <td>126</td>\n",
       "      <td>2</td>\n",
       "      <td>100</td>\n",
       "    </tr>\n",
       "    <tr>\n",
       "      <th>4</th>\n",
       "      <td>5</td>\n",
       "      <td>7</td>\n",
       "      <td>1.001422</td>\n",
       "      <td>1.002301</td>\n",
       "      <td>1.001370</td>\n",
       "      <td>1.002405</td>\n",
       "      <td>3</td>\n",
       "      <td>126</td>\n",
       "      <td>2</td>\n",
       "      <td>100</td>\n",
       "    </tr>\n",
       "    <tr>\n",
       "      <th>...</th>\n",
       "      <td>...</td>\n",
       "      <td>...</td>\n",
       "      <td>...</td>\n",
       "      <td>...</td>\n",
       "      <td>...</td>\n",
       "      <td>...</td>\n",
       "      <td>...</td>\n",
       "      <td>...</td>\n",
       "      <td>...</td>\n",
       "      <td>...</td>\n",
       "    </tr>\n",
       "    <tr>\n",
       "      <th>917548</th>\n",
       "      <td>32767</td>\n",
       "      <td>568</td>\n",
       "      <td>0.998275</td>\n",
       "      <td>0.998754</td>\n",
       "      <td>0.997796</td>\n",
       "      <td>0.998946</td>\n",
       "      <td>90</td>\n",
       "      <td>90</td>\n",
       "      <td>48</td>\n",
       "      <td>28</td>\n",
       "    </tr>\n",
       "    <tr>\n",
       "      <th>917549</th>\n",
       "      <td>32767</td>\n",
       "      <td>569</td>\n",
       "      <td>0.998275</td>\n",
       "      <td>0.998754</td>\n",
       "      <td>0.997892</td>\n",
       "      <td>0.998946</td>\n",
       "      <td>91</td>\n",
       "      <td>90</td>\n",
       "      <td>200</td>\n",
       "      <td>28</td>\n",
       "    </tr>\n",
       "    <tr>\n",
       "      <th>917550</th>\n",
       "      <td>32767</td>\n",
       "      <td>571</td>\n",
       "      <td>0.998275</td>\n",
       "      <td>0.998754</td>\n",
       "      <td>0.997892</td>\n",
       "      <td>0.998946</td>\n",
       "      <td>91</td>\n",
       "      <td>90</td>\n",
       "      <td>100</td>\n",
       "      <td>28</td>\n",
       "    </tr>\n",
       "    <tr>\n",
       "      <th>917551</th>\n",
       "      <td>32767</td>\n",
       "      <td>572</td>\n",
       "      <td>0.998275</td>\n",
       "      <td>0.998754</td>\n",
       "      <td>0.997892</td>\n",
       "      <td>0.998946</td>\n",
       "      <td>92</td>\n",
       "      <td>90</td>\n",
       "      <td>100</td>\n",
       "      <td>28</td>\n",
       "    </tr>\n",
       "    <tr>\n",
       "      <th>917552</th>\n",
       "      <td>32767</td>\n",
       "      <td>582</td>\n",
       "      <td>0.998275</td>\n",
       "      <td>0.998754</td>\n",
       "      <td>0.998179</td>\n",
       "      <td>0.998946</td>\n",
       "      <td>92</td>\n",
       "      <td>90</td>\n",
       "      <td>26</td>\n",
       "      <td>28</td>\n",
       "    </tr>\n",
       "  </tbody>\n",
       "</table>\n",
       "<p>917553 rows × 10 columns</p>\n",
       "</div>"
      ],
      "text/plain": [
       "        time_id  seconds_in_bucket  bid_price1  ask_price1  bid_price2  \\\n",
       "0             5                  0    1.001422    1.002301    1.001370   \n",
       "1             5                  1    1.001422    1.002301    1.001370   \n",
       "2             5                  5    1.001422    1.002301    1.001370   \n",
       "3             5                  6    1.001422    1.002301    1.001370   \n",
       "4             5                  7    1.001422    1.002301    1.001370   \n",
       "...         ...                ...         ...         ...         ...   \n",
       "917548    32767                568    0.998275    0.998754    0.997796   \n",
       "917549    32767                569    0.998275    0.998754    0.997892   \n",
       "917550    32767                571    0.998275    0.998754    0.997892   \n",
       "917551    32767                572    0.998275    0.998754    0.997892   \n",
       "917552    32767                582    0.998275    0.998754    0.998179   \n",
       "\n",
       "        ask_price2  bid_size1  ask_size1  bid_size2  ask_size2  \n",
       "0         1.002353          3        226          2        100  \n",
       "1         1.002353          3        100          2        100  \n",
       "2         1.002405          3        100          2        100  \n",
       "3         1.002405          3        126          2        100  \n",
       "4         1.002405          3        126          2        100  \n",
       "...            ...        ...        ...        ...        ...  \n",
       "917548    0.998946         90         90         48         28  \n",
       "917549    0.998946         91         90        200         28  \n",
       "917550    0.998946         91         90        100         28  \n",
       "917551    0.998946         92         90        100         28  \n",
       "917552    0.998946         92         90         26         28  \n",
       "\n",
       "[917553 rows x 10 columns]"
      ]
     },
     "execution_count": 29,
     "metadata": {},
     "output_type": "execute_result"
    }
   ],
   "source": [
    "book_example"
   ]
  },
  {
   "cell_type": "code",
   "execution_count": 30,
   "metadata": {
    "execution": {
     "iopub.execute_input": "2021-06-30T14:41:58.697306Z",
     "iopub.status.busy": "2021-06-30T14:41:58.696886Z",
     "iopub.status.idle": "2021-06-30T14:41:58.735905Z",
     "shell.execute_reply": "2021-06-30T14:41:58.735004Z",
     "shell.execute_reply.started": "2021-06-30T14:41:58.697263Z"
    }
   },
   "outputs": [
    {
     "data": {
      "text/html": [
       "<div>\n",
       "<style scoped>\n",
       "    .dataframe tbody tr th:only-of-type {\n",
       "        vertical-align: middle;\n",
       "    }\n",
       "\n",
       "    .dataframe tbody tr th {\n",
       "        vertical-align: top;\n",
       "    }\n",
       "\n",
       "    .dataframe thead th {\n",
       "        text-align: right;\n",
       "    }\n",
       "</style>\n",
       "<table border=\"1\" class=\"dataframe\">\n",
       "  <thead>\n",
       "    <tr style=\"text-align: right;\">\n",
       "      <th></th>\n",
       "      <th>time_id</th>\n",
       "      <th>seconds_in_bucket</th>\n",
       "      <th>bid_price1</th>\n",
       "      <th>ask_price1</th>\n",
       "      <th>bid_price2</th>\n",
       "      <th>ask_price2</th>\n",
       "      <th>bid_size1</th>\n",
       "      <th>ask_size1</th>\n",
       "      <th>bid_size2</th>\n",
       "      <th>ask_size2</th>\n",
       "    </tr>\n",
       "  </thead>\n",
       "  <tbody>\n",
       "    <tr>\n",
       "      <th>0</th>\n",
       "      <td>5</td>\n",
       "      <td>0</td>\n",
       "      <td>1.001422</td>\n",
       "      <td>1.002301</td>\n",
       "      <td>1.001370</td>\n",
       "      <td>1.002353</td>\n",
       "      <td>3</td>\n",
       "      <td>226</td>\n",
       "      <td>2</td>\n",
       "      <td>100</td>\n",
       "    </tr>\n",
       "    <tr>\n",
       "      <th>1</th>\n",
       "      <td>5</td>\n",
       "      <td>1</td>\n",
       "      <td>1.001422</td>\n",
       "      <td>1.002301</td>\n",
       "      <td>1.001370</td>\n",
       "      <td>1.002353</td>\n",
       "      <td>3</td>\n",
       "      <td>100</td>\n",
       "      <td>2</td>\n",
       "      <td>100</td>\n",
       "    </tr>\n",
       "    <tr>\n",
       "      <th>2</th>\n",
       "      <td>5</td>\n",
       "      <td>5</td>\n",
       "      <td>1.001422</td>\n",
       "      <td>1.002301</td>\n",
       "      <td>1.001370</td>\n",
       "      <td>1.002405</td>\n",
       "      <td>3</td>\n",
       "      <td>100</td>\n",
       "      <td>2</td>\n",
       "      <td>100</td>\n",
       "    </tr>\n",
       "    <tr>\n",
       "      <th>3</th>\n",
       "      <td>5</td>\n",
       "      <td>6</td>\n",
       "      <td>1.001422</td>\n",
       "      <td>1.002301</td>\n",
       "      <td>1.001370</td>\n",
       "      <td>1.002405</td>\n",
       "      <td>3</td>\n",
       "      <td>126</td>\n",
       "      <td>2</td>\n",
       "      <td>100</td>\n",
       "    </tr>\n",
       "    <tr>\n",
       "      <th>4</th>\n",
       "      <td>5</td>\n",
       "      <td>7</td>\n",
       "      <td>1.001422</td>\n",
       "      <td>1.002301</td>\n",
       "      <td>1.001370</td>\n",
       "      <td>1.002405</td>\n",
       "      <td>3</td>\n",
       "      <td>126</td>\n",
       "      <td>2</td>\n",
       "      <td>100</td>\n",
       "    </tr>\n",
       "    <tr>\n",
       "      <th>...</th>\n",
       "      <td>...</td>\n",
       "      <td>...</td>\n",
       "      <td>...</td>\n",
       "      <td>...</td>\n",
       "      <td>...</td>\n",
       "      <td>...</td>\n",
       "      <td>...</td>\n",
       "      <td>...</td>\n",
       "      <td>...</td>\n",
       "      <td>...</td>\n",
       "    </tr>\n",
       "    <tr>\n",
       "      <th>297</th>\n",
       "      <td>5</td>\n",
       "      <td>585</td>\n",
       "      <td>1.003129</td>\n",
       "      <td>1.003749</td>\n",
       "      <td>1.003025</td>\n",
       "      <td>1.003801</td>\n",
       "      <td>100</td>\n",
       "      <td>3</td>\n",
       "      <td>26</td>\n",
       "      <td>3</td>\n",
       "    </tr>\n",
       "    <tr>\n",
       "      <th>298</th>\n",
       "      <td>5</td>\n",
       "      <td>586</td>\n",
       "      <td>1.003129</td>\n",
       "      <td>1.003749</td>\n",
       "      <td>1.002612</td>\n",
       "      <td>1.003801</td>\n",
       "      <td>100</td>\n",
       "      <td>3</td>\n",
       "      <td>2</td>\n",
       "      <td>3</td>\n",
       "    </tr>\n",
       "    <tr>\n",
       "      <th>299</th>\n",
       "      <td>5</td>\n",
       "      <td>587</td>\n",
       "      <td>1.003129</td>\n",
       "      <td>1.003749</td>\n",
       "      <td>1.003025</td>\n",
       "      <td>1.003801</td>\n",
       "      <td>100</td>\n",
       "      <td>3</td>\n",
       "      <td>26</td>\n",
       "      <td>3</td>\n",
       "    </tr>\n",
       "    <tr>\n",
       "      <th>300</th>\n",
       "      <td>5</td>\n",
       "      <td>588</td>\n",
       "      <td>1.003129</td>\n",
       "      <td>1.003749</td>\n",
       "      <td>1.002612</td>\n",
       "      <td>1.003801</td>\n",
       "      <td>100</td>\n",
       "      <td>3</td>\n",
       "      <td>2</td>\n",
       "      <td>3</td>\n",
       "    </tr>\n",
       "    <tr>\n",
       "      <th>301</th>\n",
       "      <td>5</td>\n",
       "      <td>593</td>\n",
       "      <td>1.003129</td>\n",
       "      <td>1.003749</td>\n",
       "      <td>1.003025</td>\n",
       "      <td>1.003801</td>\n",
       "      <td>100</td>\n",
       "      <td>3</td>\n",
       "      <td>26</td>\n",
       "      <td>3</td>\n",
       "    </tr>\n",
       "  </tbody>\n",
       "</table>\n",
       "<p>302 rows × 10 columns</p>\n",
       "</div>"
      ],
      "text/plain": [
       "     time_id  seconds_in_bucket  bid_price1  ask_price1  bid_price2  \\\n",
       "0          5                  0    1.001422    1.002301    1.001370   \n",
       "1          5                  1    1.001422    1.002301    1.001370   \n",
       "2          5                  5    1.001422    1.002301    1.001370   \n",
       "3          5                  6    1.001422    1.002301    1.001370   \n",
       "4          5                  7    1.001422    1.002301    1.001370   \n",
       "..       ...                ...         ...         ...         ...   \n",
       "297        5                585    1.003129    1.003749    1.003025   \n",
       "298        5                586    1.003129    1.003749    1.002612   \n",
       "299        5                587    1.003129    1.003749    1.003025   \n",
       "300        5                588    1.003129    1.003749    1.002612   \n",
       "301        5                593    1.003129    1.003749    1.003025   \n",
       "\n",
       "     ask_price2  bid_size1  ask_size1  bid_size2  ask_size2  \n",
       "0      1.002353          3        226          2        100  \n",
       "1      1.002353          3        100          2        100  \n",
       "2      1.002405          3        100          2        100  \n",
       "3      1.002405          3        126          2        100  \n",
       "4      1.002405          3        126          2        100  \n",
       "..          ...        ...        ...        ...        ...  \n",
       "297    1.003801        100          3         26          3  \n",
       "298    1.003801        100          3          2          3  \n",
       "299    1.003801        100          3         26          3  \n",
       "300    1.003801        100          3          2          3  \n",
       "301    1.003801        100          3         26          3  \n",
       "\n",
       "[302 rows x 10 columns]"
      ]
     },
     "execution_count": 30,
     "metadata": {},
     "output_type": "execute_result"
    }
   ],
   "source": [
    "book_test = book_example[book_example[\"time_id\"]==5]\n",
    "book_test"
   ]
  },
  {
   "cell_type": "markdown",
   "metadata": {},
   "source": [
    "## 5.2.1 価格変動 (個別 + 全体を重ねたもの)\n",
    "\n",
    "#### まずは、オーダーブック情報"
   ]
  },
  {
   "cell_type": "code",
   "execution_count": 31,
   "metadata": {
    "execution": {
     "iopub.execute_input": "2021-06-30T14:41:58.737526Z",
     "iopub.status.busy": "2021-06-30T14:41:58.737259Z",
     "iopub.status.idle": "2021-06-30T14:41:59.460018Z",
     "shell.execute_reply": "2021-06-30T14:41:59.457626Z",
     "shell.execute_reply.started": "2021-06-30T14:41:58.7375Z"
    }
   },
   "outputs": [
    {
     "data": {
      "image/png": "[encoded data removed]",
      "text/plain": [
       "<Figure size 1440x360 with 1 Axes>"
      ]
     },
     "metadata": {
      "needs_background": "light"
     },
     "output_type": "display_data"
    },
    {
     "data": {
      "image/png": "[encoded data removed]",
      "text/plain": [
       "<Figure size 1440x360 with 1 Axes>"
      ]
     },
     "metadata": {
      "needs_background": "light"
     },
     "output_type": "display_data"
    },
    {
     "data": {
      "image/png": "[encoded data removed]",
      "text/plain": [
       "<Figure size 1440x360 with 1 Axes>"
      ]
     },
     "metadata": {
      "needs_background": "light"
     },
     "output_type": "display_data"
    },
    {
     "data": {
      "image/png": "[encoded data removed]",
      "text/plain": [
       "<Figure size 1440x360 with 1 Axes>"
      ]
     },
     "metadata": {
      "needs_background": "light"
     },
     "output_type": "display_data"
    },
    {
     "data": {
      "text/plain": [
       "<matplotlib.legend.Legend at 0x7fda0f5898b0>"
      ]
     },
     "execution_count": 31,
     "metadata": {},
     "output_type": "execute_result"
    },
    {
     "data": {
      "image/png": "[encoded data removed]",
      "text/plain": [
       "<Figure size 1440x360 with 1 Axes>"
      ]
     },
     "metadata": {
      "needs_background": "light"
     },
     "output_type": "display_data"
    }
   ],
   "source": [
    "samples = [\"bid_price1\",\"bid_price2\",\"ask_price1\",\"ask_price2\"]\n",
    "\n",
    "for num,a in enumerate(samples):\n",
    "    plt.figure(figsize=(20,5))\n",
    "   \n",
    "    plt.subplot(4,1,num+1)\n",
    "    plt.plot(book_test[\"seconds_in_bucket\"],book_test[a])\n",
    "    plt.title(a)\n",
    "plt.show()\n",
    "plt.figure(figsize=(20,5))\n",
    "\n",
    "for num,a in enumerate(samples):\n",
    "    \n",
    "   \n",
    "    plt.plot(book_test[\"seconds_in_bucket\"],book_test[a],label=a)\n",
    "plt.legend(fontsize=12)\n"
   ]
  },
  {
   "cell_type": "markdown",
   "metadata": {},
   "source": [
    "#### これに実際の取引情報を追記します。"
   ]
  },
  {
   "cell_type": "code",
   "execution_count": 32,
   "metadata": {
    "execution": {
     "iopub.execute_input": "2021-06-30T14:41:59.4623Z",
     "iopub.status.busy": "2021-06-30T14:41:59.461794Z",
     "iopub.status.idle": "2021-06-30T14:41:59.48227Z",
     "shell.execute_reply": "2021-06-30T14:41:59.481206Z",
     "shell.execute_reply.started": "2021-06-30T14:41:59.462252Z"
    }
   },
   "outputs": [
    {
     "data": {
      "text/html": [
       "<div>\n",
       "<style scoped>\n",
       "    .dataframe tbody tr th:only-of-type {\n",
       "        vertical-align: middle;\n",
       "    }\n",
       "\n",
       "    .dataframe tbody tr th {\n",
       "        vertical-align: top;\n",
       "    }\n",
       "\n",
       "    .dataframe thead th {\n",
       "        text-align: right;\n",
       "    }\n",
       "</style>\n",
       "<table border=\"1\" class=\"dataframe\">\n",
       "  <thead>\n",
       "    <tr style=\"text-align: right;\">\n",
       "      <th></th>\n",
       "      <th>time_id</th>\n",
       "      <th>seconds_in_bucket</th>\n",
       "      <th>price</th>\n",
       "      <th>size</th>\n",
       "      <th>order_count</th>\n",
       "    </tr>\n",
       "  </thead>\n",
       "  <tbody>\n",
       "    <tr>\n",
       "      <th>0</th>\n",
       "      <td>5</td>\n",
       "      <td>21</td>\n",
       "      <td>1.002301</td>\n",
       "      <td>326</td>\n",
       "      <td>12</td>\n",
       "    </tr>\n",
       "    <tr>\n",
       "      <th>1</th>\n",
       "      <td>5</td>\n",
       "      <td>46</td>\n",
       "      <td>1.002778</td>\n",
       "      <td>128</td>\n",
       "      <td>4</td>\n",
       "    </tr>\n",
       "    <tr>\n",
       "      <th>2</th>\n",
       "      <td>5</td>\n",
       "      <td>50</td>\n",
       "      <td>1.002818</td>\n",
       "      <td>55</td>\n",
       "      <td>1</td>\n",
       "    </tr>\n",
       "    <tr>\n",
       "      <th>3</th>\n",
       "      <td>5</td>\n",
       "      <td>57</td>\n",
       "      <td>1.003155</td>\n",
       "      <td>121</td>\n",
       "      <td>5</td>\n",
       "    </tr>\n",
       "    <tr>\n",
       "      <th>4</th>\n",
       "      <td>5</td>\n",
       "      <td>68</td>\n",
       "      <td>1.003646</td>\n",
       "      <td>4</td>\n",
       "      <td>1</td>\n",
       "    </tr>\n",
       "    <tr>\n",
       "      <th>...</th>\n",
       "      <td>...</td>\n",
       "      <td>...</td>\n",
       "      <td>...</td>\n",
       "      <td>...</td>\n",
       "      <td>...</td>\n",
       "    </tr>\n",
       "    <tr>\n",
       "      <th>123438</th>\n",
       "      <td>32767</td>\n",
       "      <td>471</td>\n",
       "      <td>0.998659</td>\n",
       "      <td>200</td>\n",
       "      <td>3</td>\n",
       "    </tr>\n",
       "    <tr>\n",
       "      <th>123439</th>\n",
       "      <td>32767</td>\n",
       "      <td>517</td>\n",
       "      <td>0.998515</td>\n",
       "      <td>90</td>\n",
       "      <td>1</td>\n",
       "    </tr>\n",
       "    <tr>\n",
       "      <th>123440</th>\n",
       "      <td>32767</td>\n",
       "      <td>523</td>\n",
       "      <td>0.998563</td>\n",
       "      <td>1</td>\n",
       "      <td>1</td>\n",
       "    </tr>\n",
       "    <tr>\n",
       "      <th>123441</th>\n",
       "      <td>32767</td>\n",
       "      <td>542</td>\n",
       "      <td>0.998803</td>\n",
       "      <td>90</td>\n",
       "      <td>4</td>\n",
       "    </tr>\n",
       "    <tr>\n",
       "      <th>123442</th>\n",
       "      <td>32767</td>\n",
       "      <td>567</td>\n",
       "      <td>0.998547</td>\n",
       "      <td>300</td>\n",
       "      <td>3</td>\n",
       "    </tr>\n",
       "  </tbody>\n",
       "</table>\n",
       "<p>123443 rows × 5 columns</p>\n",
       "</div>"
      ],
      "text/plain": [
       "        time_id  seconds_in_bucket     price  size  order_count\n",
       "0             5                 21  1.002301   326           12\n",
       "1             5                 46  1.002778   128            4\n",
       "2             5                 50  1.002818    55            1\n",
       "3             5                 57  1.003155   121            5\n",
       "4             5                 68  1.003646     4            1\n",
       "...         ...                ...       ...   ...          ...\n",
       "123438    32767                471  0.998659   200            3\n",
       "123439    32767                517  0.998515    90            1\n",
       "123440    32767                523  0.998563     1            1\n",
       "123441    32767                542  0.998803    90            4\n",
       "123442    32767                567  0.998547   300            3\n",
       "\n",
       "[123443 rows x 5 columns]"
      ]
     },
     "execution_count": 32,
     "metadata": {},
     "output_type": "execute_result"
    }
   ],
   "source": [
    "trade_example"
   ]
  },
  {
   "cell_type": "code",
   "execution_count": 33,
   "metadata": {
    "execution": {
     "iopub.execute_input": "2021-06-30T14:41:59.484221Z",
     "iopub.status.busy": "2021-06-30T14:41:59.48379Z",
     "iopub.status.idle": "2021-06-30T14:41:59.502199Z",
     "shell.execute_reply": "2021-06-30T14:41:59.501297Z",
     "shell.execute_reply.started": "2021-06-30T14:41:59.484157Z"
    }
   },
   "outputs": [
    {
     "data": {
      "text/html": [
       "<div>\n",
       "<style scoped>\n",
       "    .dataframe tbody tr th:only-of-type {\n",
       "        vertical-align: middle;\n",
       "    }\n",
       "\n",
       "    .dataframe tbody tr th {\n",
       "        vertical-align: top;\n",
       "    }\n",
       "\n",
       "    .dataframe thead th {\n",
       "        text-align: right;\n",
       "    }\n",
       "</style>\n",
       "<table border=\"1\" class=\"dataframe\">\n",
       "  <thead>\n",
       "    <tr style=\"text-align: right;\">\n",
       "      <th></th>\n",
       "      <th>time_id</th>\n",
       "      <th>seconds_in_bucket</th>\n",
       "      <th>price</th>\n",
       "      <th>size</th>\n",
       "      <th>order_count</th>\n",
       "    </tr>\n",
       "  </thead>\n",
       "  <tbody>\n",
       "    <tr>\n",
       "      <th>0</th>\n",
       "      <td>5</td>\n",
       "      <td>21</td>\n",
       "      <td>1.002301</td>\n",
       "      <td>326</td>\n",
       "      <td>12</td>\n",
       "    </tr>\n",
       "    <tr>\n",
       "      <th>1</th>\n",
       "      <td>5</td>\n",
       "      <td>46</td>\n",
       "      <td>1.002778</td>\n",
       "      <td>128</td>\n",
       "      <td>4</td>\n",
       "    </tr>\n",
       "    <tr>\n",
       "      <th>2</th>\n",
       "      <td>5</td>\n",
       "      <td>50</td>\n",
       "      <td>1.002818</td>\n",
       "      <td>55</td>\n",
       "      <td>1</td>\n",
       "    </tr>\n",
       "    <tr>\n",
       "      <th>3</th>\n",
       "      <td>5</td>\n",
       "      <td>57</td>\n",
       "      <td>1.003155</td>\n",
       "      <td>121</td>\n",
       "      <td>5</td>\n",
       "    </tr>\n",
       "    <tr>\n",
       "      <th>4</th>\n",
       "      <td>5</td>\n",
       "      <td>68</td>\n",
       "      <td>1.003646</td>\n",
       "      <td>4</td>\n",
       "      <td>1</td>\n",
       "    </tr>\n",
       "  </tbody>\n",
       "</table>\n",
       "</div>"
      ],
      "text/plain": [
       "   time_id  seconds_in_bucket     price  size  order_count\n",
       "0        5                 21  1.002301   326           12\n",
       "1        5                 46  1.002778   128            4\n",
       "2        5                 50  1.002818    55            1\n",
       "3        5                 57  1.003155   121            5\n",
       "4        5                 68  1.003646     4            1"
      ]
     },
     "execution_count": 33,
     "metadata": {},
     "output_type": "execute_result"
    }
   ],
   "source": [
    "trade_test = trade_example[trade_example[\"time_id\"]==5]\n",
    "trade_test.head(5)"
   ]
  },
  {
   "cell_type": "code",
   "execution_count": null,
   "metadata": {},
   "outputs": [],
   "source": []
  },
  {
   "cell_type": "markdown",
   "metadata": {},
   "source": [
    "#### 全体のグラフに、実際の取引を加えてみる"
   ]
  },
  {
   "cell_type": "code",
   "execution_count": 34,
   "metadata": {
    "execution": {
     "iopub.execute_input": "2021-06-30T14:41:59.506021Z",
     "iopub.status.busy": "2021-06-30T14:41:59.505735Z",
     "iopub.status.idle": "2021-06-30T14:41:59.779367Z",
     "shell.execute_reply": "2021-06-30T14:41:59.777581Z",
     "shell.execute_reply.started": "2021-06-30T14:41:59.505995Z"
    }
   },
   "outputs": [
    {
     "data": {
      "text/plain": [
       "<matplotlib.legend.Legend at 0x7fda0f72a8e0>"
      ]
     },
     "execution_count": 34,
     "metadata": {},
     "output_type": "execute_result"
    },
    {
     "data": {
      "image/png": "[encoded data removed]",
      "text/plain": [
       "<Figure size 1440x360 with 1 Axes>"
      ]
     },
     "metadata": {
      "needs_background": "light"
     },
     "output_type": "display_data"
    }
   ],
   "source": [
    "plt.figure(figsize=(20,5))\n",
    "\n",
    "for num,a in enumerate(samples):\n",
    "    \n",
    "   \n",
    "    plt.plot(book_test[\"seconds_in_bucket\"],book_test[a],label=a)\n",
    "    \n",
    "plt.plot(trade_test[\"seconds_in_bucket\"],trade_test[\"price\"],label=\"trade_parquet\",lw=10)\n",
    "plt.legend(fontsize=12)"
   ]
  },
  {
   "cell_type": "markdown",
   "metadata": {},
   "source": [
    "## 紫が実際の取引。オーダーブックのbidとaskの間をうろうろしている。\n",
    "\n",
    "#### ※bitやaskのところ近づいたら、攻防があって、超えたらブレイクしてなどその辺は専門家に任せます。"
   ]
  },
  {
   "cell_type": "code",
   "execution_count": null,
   "metadata": {},
   "outputs": [],
   "source": []
  },
  {
   "cell_type": "markdown",
   "metadata": {},
   "source": [
    "#### time id5の10分間の中でも、bidとaskの値は変動していることがわかる。これのばらつきが大きいとボラティリティと関係するかもしれない。\n",
    "#### 例えば、急に株価を変動するニュースが入った時に、ボラティリティがボーンと上がって、\n",
    "#### 乱高下するとばらつきとかが増えるのかもと推測。Max-Minとかも重要かも。(ボラティリティを予測するから逆の発想ですね)"
   ]
  },
  {
   "cell_type": "code",
   "execution_count": null,
   "metadata": {},
   "outputs": [],
   "source": []
  },
  {
   "cell_type": "markdown",
   "metadata": {},
   "source": [
    "## 5.2.2 ボラティリティのイメージ"
   ]
  },
  {
   "cell_type": "markdown",
   "metadata": {},
   "source": [
    "stock_id = 0で最もボラティリティが低かった時をグラフにしてみます。"
   ]
  },
  {
   "cell_type": "code",
   "execution_count": 35,
   "metadata": {
    "_kg_hide-input": true,
    "execution": {
     "iopub.execute_input": "2021-06-30T15:02:11.459331Z",
     "iopub.status.busy": "2021-06-30T15:02:11.45884Z",
     "iopub.status.idle": "2021-06-30T15:02:11.471898Z",
     "shell.execute_reply": "2021-06-30T15:02:11.47067Z",
     "shell.execute_reply.started": "2021-06-30T15:02:11.459285Z"
    }
   },
   "outputs": [
    {
     "name": "stdout",
     "output_type": "stream",
     "text": [
      "min index is 24253.0 min target is 0.000593833\n"
     ]
    }
   ],
   "source": [
    "stock0 = train[train[\"stock_id\"]==0]\n",
    "min_index = stock0[\"target\"].idxmin()\n",
    "min_time_id = stock0.iloc[min_index][\"time_id\"]\n",
    "print(\"min index is\",min_time_id,\"min target is\",stock0.iloc[min_index][\"target\"])"
   ]
  },
  {
   "cell_type": "code",
   "execution_count": 36,
   "metadata": {
    "_kg_hide-input": true,
    "execution": {
     "iopub.execute_input": "2021-06-30T15:02:13.350901Z",
     "iopub.status.busy": "2021-06-30T15:02:13.350565Z",
     "iopub.status.idle": "2021-06-30T15:02:13.587397Z",
     "shell.execute_reply": "2021-06-30T15:02:13.586368Z",
     "shell.execute_reply.started": "2021-06-30T15:02:13.350872Z"
    }
   },
   "outputs": [
    {
     "data": {
      "text/plain": [
       "<matplotlib.legend.Legend at 0x7fda0fb6cee0>"
      ]
     },
     "execution_count": 36,
     "metadata": {},
     "output_type": "execute_result"
    },
    {
     "data": {
      "image/png": "[encoded data removed]",
      "text/plain": [
       "<Figure size 1440x360 with 1 Axes>"
      ]
     },
     "metadata": {
      "needs_background": "light"
     },
     "output_type": "display_data"
    }
   ],
   "source": [
    "book_test_min = book_example[book_example[\"time_id\"]==min_time_id]\n",
    "trade_test_min = trade_example[trade_example[\"time_id\"]==min_time_id]\n",
    "\n",
    "\n",
    "plt.figure(figsize=(20,5))\n",
    "\n",
    "for num,a in enumerate(samples):\n",
    "    \n",
    "   \n",
    "    plt.plot(book_test_min[\"seconds_in_bucket\"],book_test_min[a],label=a)\n",
    "    \n",
    "plt.plot(trade_test_min[\"seconds_in_bucket\"],trade_test_min[\"price\"],label=\"trade_parquet\",lw=10)\n",
    "plt.legend(fontsize=12)"
   ]
  },
  {
   "cell_type": "markdown",
   "metadata": {},
   "source": [
    "stock_id = 0で最もボラティリティが高かった時をグラフにしてみます。"
   ]
  },
  {
   "cell_type": "code",
   "execution_count": 37,
   "metadata": {
    "_kg_hide-input": true,
    "execution": {
     "iopub.execute_input": "2021-06-30T15:01:33.202929Z",
     "iopub.status.busy": "2021-06-30T15:01:33.202575Z",
     "iopub.status.idle": "2021-06-30T15:01:33.214853Z",
     "shell.execute_reply": "2021-06-30T15:01:33.213497Z",
     "shell.execute_reply.started": "2021-06-30T15:01:33.202901Z"
    }
   },
   "outputs": [
    {
     "name": "stdout",
     "output_type": "stream",
     "text": [
      "max index is 19725.0 max target is 0.036311154\n"
     ]
    }
   ],
   "source": [
    "stock0 = train[train[\"stock_id\"]==0]\n",
    "max_index = stock0[\"target\"].idxmax()\n",
    "max_time_id = stock0.iloc[max_index][\"time_id\"]\n",
    "print(\"max index is\",max_time_id,\"max target is\",stock0.iloc[max_index][\"target\"])"
   ]
  },
  {
   "cell_type": "code",
   "execution_count": 38,
   "metadata": {
    "_kg_hide-input": true,
    "execution": {
     "iopub.execute_input": "2021-06-30T14:58:14.032357Z",
     "iopub.status.busy": "2021-06-30T14:58:14.031992Z",
     "iopub.status.idle": "2021-06-30T14:58:14.242192Z",
     "shell.execute_reply": "2021-06-30T14:58:14.241063Z",
     "shell.execute_reply.started": "2021-06-30T14:58:14.032327Z"
    }
   },
   "outputs": [
    {
     "data": {
      "text/plain": [
       "<matplotlib.legend.Legend at 0x7fda0f4ee550>"
      ]
     },
     "execution_count": 38,
     "metadata": {},
     "output_type": "execute_result"
    },
    {
     "data": {
      "image/png": "[encoded data removed]",
      "text/plain": [
       "<Figure size 1440x360 with 1 Axes>"
      ]
     },
     "metadata": {
      "needs_background": "light"
     },
     "output_type": "display_data"
    }
   ],
   "source": [
    "book_test_max = book_example[book_example[\"time_id\"]==max_time_id]\n",
    "trade_test_max = trade_example[trade_example[\"time_id\"]==max_time_id]\n",
    "\n",
    "\n",
    "plt.figure(figsize=(20,5))\n",
    "\n",
    "for num,a in enumerate(samples):\n",
    "    \n",
    "   \n",
    "    plt.plot(book_test_max[\"seconds_in_bucket\"],book_test_max[a],label=a)\n",
    "    \n",
    "plt.plot(trade_test_max[\"seconds_in_bucket\"],trade_test_max[\"price\"],label=\"trade_parquet\",lw=10)\n",
    "plt.legend(fontsize=12)"
   ]
  },
  {
   "cell_type": "markdown",
   "metadata": {},
   "source": [
    "#### 縦軸のスケールが全然違うので、実際の取引を重ねてみます。"
   ]
  },
  {
   "cell_type": "code",
   "execution_count": 39,
   "metadata": {
    "_kg_hide-input": true,
    "execution": {
     "iopub.execute_input": "2021-06-30T15:01:01.518273Z",
     "iopub.status.busy": "2021-06-30T15:01:01.517874Z",
     "iopub.status.idle": "2021-06-30T15:01:01.709524Z",
     "shell.execute_reply": "2021-06-30T15:01:01.70855Z",
     "shell.execute_reply.started": "2021-06-30T15:01:01.518236Z"
    }
   },
   "outputs": [
    {
     "data": {
      "text/plain": [
       "<matplotlib.legend.Legend at 0x7fda0f6259d0>"
      ]
     },
     "execution_count": 39,
     "metadata": {},
     "output_type": "execute_result"
    },
    {
     "data": {
      "image/png": "[encoded data removed]",
      "text/plain": [
       "<Figure size 1440x360 with 1 Axes>"
      ]
     },
     "metadata": {
      "needs_background": "light"
     },
     "output_type": "display_data"
    }
   ],
   "source": [
    "plt.figure(figsize=(20,5))\n",
    "plt.plot(trade_test_min[\"seconds_in_bucket\"],trade_test_min[\"price\"],lw=10,label=\"min_vol_time\")\n",
    "plt.plot(trade_test_max[\"seconds_in_bucket\"],trade_test_max[\"price\"],lw=10,label = \"max_vol_time\")\n",
    "plt.legend(fontsize=15)"
   ]
  },
  {
   "cell_type": "markdown",
   "metadata": {},
   "source": [
    "## ボラティリティが高いときはこの場合は、10分間でかなりの価格変動を起こしていることがわかる。\n",
    "#### (ばらつきや、Max-Minはやっぱり大事そう)"
   ]
  },
  {
   "cell_type": "code",
   "execution_count": null,
   "metadata": {},
   "outputs": [],
   "source": []
  },
  {
   "cell_type": "code",
   "execution_count": null,
   "metadata": {},
   "outputs": [],
   "source": []
  },
  {
   "cell_type": "markdown",
   "metadata": {},
   "source": [
    "# 6.submit"
   ]
  },
  {
   "cell_type": "markdown",
   "metadata": {},
   "source": [
    "## お試しで株ごとのmedian値を全部入れてsubmitします"
   ]
  },
  {
   "cell_type": "markdown",
   "metadata": {},
   "source": [
    "## 6.1 株ごとのmedian値のdictionary作成"
   ]
  },
  {
   "cell_type": "code",
   "execution_count": 40,
   "metadata": {
    "execution": {
     "iopub.execute_input": "2021-06-30T14:41:59.781955Z",
     "iopub.status.busy": "2021-06-30T14:41:59.781534Z",
     "iopub.status.idle": "2021-06-30T14:41:59.806478Z",
     "shell.execute_reply": "2021-06-30T14:41:59.805386Z",
     "shell.execute_reply.started": "2021-06-30T14:41:59.781908Z"
    }
   },
   "outputs": [
    {
     "data": {
      "text/html": [
       "<div>\n",
       "<style scoped>\n",
       "    .dataframe tbody tr th:only-of-type {\n",
       "        vertical-align: middle;\n",
       "    }\n",
       "\n",
       "    .dataframe tbody tr th {\n",
       "        vertical-align: top;\n",
       "    }\n",
       "\n",
       "    .dataframe thead th {\n",
       "        text-align: right;\n",
       "    }\n",
       "</style>\n",
       "<table border=\"1\" class=\"dataframe\">\n",
       "  <thead>\n",
       "    <tr style=\"text-align: right;\">\n",
       "      <th></th>\n",
       "      <th>stock_id</th>\n",
       "      <th>mean</th>\n",
       "      <th>median</th>\n",
       "      <th>std</th>\n",
       "      <th>count</th>\n",
       "      <th>sum</th>\n",
       "    </tr>\n",
       "  </thead>\n",
       "  <tbody>\n",
       "    <tr>\n",
       "      <th>0</th>\n",
       "      <td>0</td>\n",
       "      <td>0.004028</td>\n",
       "      <td>0.003180</td>\n",
       "      <td>0.002855</td>\n",
       "      <td>3830</td>\n",
       "      <td>15.429071</td>\n",
       "    </tr>\n",
       "    <tr>\n",
       "      <th>1</th>\n",
       "      <td>1</td>\n",
       "      <td>0.004362</td>\n",
       "      <td>0.003719</td>\n",
       "      <td>0.002433</td>\n",
       "      <td>3830</td>\n",
       "      <td>16.704962</td>\n",
       "    </tr>\n",
       "    <tr>\n",
       "      <th>2</th>\n",
       "      <td>2</td>\n",
       "      <td>0.002385</td>\n",
       "      <td>0.001748</td>\n",
       "      <td>0.002339</td>\n",
       "      <td>3830</td>\n",
       "      <td>9.133223</td>\n",
       "    </tr>\n",
       "    <tr>\n",
       "      <th>3</th>\n",
       "      <td>3</td>\n",
       "      <td>0.006182</td>\n",
       "      <td>0.005422</td>\n",
       "      <td>0.003201</td>\n",
       "      <td>3830</td>\n",
       "      <td>23.675414</td>\n",
       "    </tr>\n",
       "    <tr>\n",
       "      <th>4</th>\n",
       "      <td>4</td>\n",
       "      <td>0.004197</td>\n",
       "      <td>0.003397</td>\n",
       "      <td>0.002879</td>\n",
       "      <td>3830</td>\n",
       "      <td>16.073408</td>\n",
       "    </tr>\n",
       "    <tr>\n",
       "      <th>...</th>\n",
       "      <td>...</td>\n",
       "      <td>...</td>\n",
       "      <td>...</td>\n",
       "      <td>...</td>\n",
       "      <td>...</td>\n",
       "      <td>...</td>\n",
       "    </tr>\n",
       "    <tr>\n",
       "      <th>107</th>\n",
       "      <td>122</td>\n",
       "      <td>0.003762</td>\n",
       "      <td>0.003176</td>\n",
       "      <td>0.002300</td>\n",
       "      <td>3830</td>\n",
       "      <td>14.407997</td>\n",
       "    </tr>\n",
       "    <tr>\n",
       "      <th>108</th>\n",
       "      <td>123</td>\n",
       "      <td>0.002506</td>\n",
       "      <td>0.001967</td>\n",
       "      <td>0.001816</td>\n",
       "      <td>3830</td>\n",
       "      <td>9.599594</td>\n",
       "    </tr>\n",
       "    <tr>\n",
       "      <th>109</th>\n",
       "      <td>124</td>\n",
       "      <td>0.003691</td>\n",
       "      <td>0.003143</td>\n",
       "      <td>0.001953</td>\n",
       "      <td>3830</td>\n",
       "      <td>14.135579</td>\n",
       "    </tr>\n",
       "    <tr>\n",
       "      <th>110</th>\n",
       "      <td>125</td>\n",
       "      <td>0.002016</td>\n",
       "      <td>0.001575</td>\n",
       "      <td>0.001703</td>\n",
       "      <td>3830</td>\n",
       "      <td>7.719409</td>\n",
       "    </tr>\n",
       "    <tr>\n",
       "      <th>111</th>\n",
       "      <td>126</td>\n",
       "      <td>0.005321</td>\n",
       "      <td>0.004443</td>\n",
       "      <td>0.003179</td>\n",
       "      <td>3830</td>\n",
       "      <td>20.377571</td>\n",
       "    </tr>\n",
       "  </tbody>\n",
       "</table>\n",
       "<p>112 rows × 6 columns</p>\n",
       "</div>"
      ],
      "text/plain": [
       "     stock_id      mean    median       std  count        sum\n",
       "0           0  0.004028  0.003180  0.002855   3830  15.429071\n",
       "1           1  0.004362  0.003719  0.002433   3830  16.704962\n",
       "2           2  0.002385  0.001748  0.002339   3830   9.133223\n",
       "3           3  0.006182  0.005422  0.003201   3830  23.675414\n",
       "4           4  0.004197  0.003397  0.002879   3830  16.073408\n",
       "..        ...       ...       ...       ...    ...        ...\n",
       "107       122  0.003762  0.003176  0.002300   3830  14.407997\n",
       "108       123  0.002506  0.001967  0.001816   3830   9.599594\n",
       "109       124  0.003691  0.003143  0.001953   3830  14.135579\n",
       "110       125  0.002016  0.001575  0.001703   3830   7.719409\n",
       "111       126  0.005321  0.004443  0.003179   3830  20.377571\n",
       "\n",
       "[112 rows x 6 columns]"
      ]
     },
     "execution_count": 40,
     "metadata": {},
     "output_type": "execute_result"
    }
   ],
   "source": [
    "stock"
   ]
  },
  {
   "cell_type": "code",
   "execution_count": 41,
   "metadata": {
    "execution": {
     "iopub.execute_input": "2021-06-30T14:41:59.808518Z",
     "iopub.status.busy": "2021-06-30T14:41:59.808117Z",
     "iopub.status.idle": "2021-06-30T14:41:59.825217Z",
     "shell.execute_reply": "2021-06-30T14:41:59.824103Z",
     "shell.execute_reply.started": "2021-06-30T14:41:59.808481Z"
    }
   },
   "outputs": [
    {
     "data": {
      "text/html": [
       "<div>\n",
       "<style scoped>\n",
       "    .dataframe tbody tr th:only-of-type {\n",
       "        vertical-align: middle;\n",
       "    }\n",
       "\n",
       "    .dataframe tbody tr th {\n",
       "        vertical-align: top;\n",
       "    }\n",
       "\n",
       "    .dataframe thead th {\n",
       "        text-align: right;\n",
       "    }\n",
       "</style>\n",
       "<table border=\"1\" class=\"dataframe\">\n",
       "  <thead>\n",
       "    <tr style=\"text-align: right;\">\n",
       "      <th></th>\n",
       "      <th>median</th>\n",
       "    </tr>\n",
       "    <tr>\n",
       "      <th>stock_id</th>\n",
       "      <th></th>\n",
       "    </tr>\n",
       "  </thead>\n",
       "  <tbody>\n",
       "    <tr>\n",
       "      <th>0</th>\n",
       "      <td>0.003180</td>\n",
       "    </tr>\n",
       "    <tr>\n",
       "      <th>1</th>\n",
       "      <td>0.003719</td>\n",
       "    </tr>\n",
       "    <tr>\n",
       "      <th>2</th>\n",
       "      <td>0.001748</td>\n",
       "    </tr>\n",
       "    <tr>\n",
       "      <th>3</th>\n",
       "      <td>0.005422</td>\n",
       "    </tr>\n",
       "    <tr>\n",
       "      <th>4</th>\n",
       "      <td>0.003397</td>\n",
       "    </tr>\n",
       "    <tr>\n",
       "      <th>...</th>\n",
       "      <td>...</td>\n",
       "    </tr>\n",
       "    <tr>\n",
       "      <th>122</th>\n",
       "      <td>0.003176</td>\n",
       "    </tr>\n",
       "    <tr>\n",
       "      <th>123</th>\n",
       "      <td>0.001967</td>\n",
       "    </tr>\n",
       "    <tr>\n",
       "      <th>124</th>\n",
       "      <td>0.003143</td>\n",
       "    </tr>\n",
       "    <tr>\n",
       "      <th>125</th>\n",
       "      <td>0.001575</td>\n",
       "    </tr>\n",
       "    <tr>\n",
       "      <th>126</th>\n",
       "      <td>0.004443</td>\n",
       "    </tr>\n",
       "  </tbody>\n",
       "</table>\n",
       "<p>112 rows × 1 columns</p>\n",
       "</div>"
      ],
      "text/plain": [
       "            median\n",
       "stock_id          \n",
       "0         0.003180\n",
       "1         0.003719\n",
       "2         0.001748\n",
       "3         0.005422\n",
       "4         0.003397\n",
       "...            ...\n",
       "122       0.003176\n",
       "123       0.001967\n",
       "124       0.003143\n",
       "125       0.001575\n",
       "126       0.004443\n",
       "\n",
       "[112 rows x 1 columns]"
      ]
     },
     "execution_count": 41,
     "metadata": {},
     "output_type": "execute_result"
    }
   ],
   "source": [
    "stock2 = stock[[\"stock_id\",\"median\"]]\n",
    "stock2 = stock2.set_index(\"stock_id\")\n",
    "stock2"
   ]
  },
  {
   "cell_type": "code",
   "execution_count": 42,
   "metadata": {
    "execution": {
     "iopub.execute_input": "2021-06-30T14:41:59.826991Z",
     "iopub.status.busy": "2021-06-30T14:41:59.82669Z",
     "iopub.status.idle": "2021-06-30T14:41:59.840381Z",
     "shell.execute_reply": "2021-06-30T14:41:59.83931Z",
     "shell.execute_reply.started": "2021-06-30T14:41:59.826965Z"
    }
   },
   "outputs": [
    {
     "data": {
      "text/plain": [
       "0.00317963"
      ]
     },
     "execution_count": 42,
     "metadata": {},
     "output_type": "execute_result"
    }
   ],
   "source": [
    "stock_dict = stock2.to_dict()\n",
    "# example stock id = 0のmedian値\n",
    "stock_dict[\"median\"][0]"
   ]
  },
  {
   "cell_type": "markdown",
   "metadata": {},
   "source": [
    "## 6.2 submitファイルの置き換えとsubmission fileの生成"
   ]
  },
  {
   "cell_type": "code",
   "execution_count": 43,
   "metadata": {
    "execution": {
     "iopub.execute_input": "2021-06-30T14:41:59.842311Z",
     "iopub.status.busy": "2021-06-30T14:41:59.841853Z",
     "iopub.status.idle": "2021-06-30T14:41:59.858698Z",
     "shell.execute_reply": "2021-06-30T14:41:59.857548Z",
     "shell.execute_reply.started": "2021-06-30T14:41:59.84228Z"
    }
   },
   "outputs": [
    {
     "data": {
      "text/html": [
       "<div>\n",
       "<style scoped>\n",
       "    .dataframe tbody tr th:only-of-type {\n",
       "        vertical-align: middle;\n",
       "    }\n",
       "\n",
       "    .dataframe tbody tr th {\n",
       "        vertical-align: top;\n",
       "    }\n",
       "\n",
       "    .dataframe thead th {\n",
       "        text-align: right;\n",
       "    }\n",
       "</style>\n",
       "<table border=\"1\" class=\"dataframe\">\n",
       "  <thead>\n",
       "    <tr style=\"text-align: right;\">\n",
       "      <th></th>\n",
       "      <th>row_id</th>\n",
       "      <th>target</th>\n",
       "    </tr>\n",
       "  </thead>\n",
       "  <tbody>\n",
       "    <tr>\n",
       "      <th>0</th>\n",
       "      <td>0-4</td>\n",
       "      <td>0.003048</td>\n",
       "    </tr>\n",
       "    <tr>\n",
       "      <th>1</th>\n",
       "      <td>0-32</td>\n",
       "      <td>0.003048</td>\n",
       "    </tr>\n",
       "    <tr>\n",
       "      <th>2</th>\n",
       "      <td>0-34</td>\n",
       "      <td>0.003048</td>\n",
       "    </tr>\n",
       "  </tbody>\n",
       "</table>\n",
       "</div>"
      ],
      "text/plain": [
       "  row_id    target\n",
       "0    0-4  0.003048\n",
       "1   0-32  0.003048\n",
       "2   0-34  0.003048"
      ]
     },
     "execution_count": 43,
     "metadata": {},
     "output_type": "execute_result"
    }
   ],
   "source": [
    "sample # sample_submission.csvです"
   ]
  },
  {
   "cell_type": "markdown",
   "metadata": {},
   "source": [
    "row_idからstock_id抽出"
   ]
  },
  {
   "cell_type": "code",
   "execution_count": 44,
   "metadata": {
    "execution": {
     "iopub.execute_input": "2021-06-30T14:41:59.860056Z",
     "iopub.status.busy": "2021-06-30T14:41:59.859771Z",
     "iopub.status.idle": "2021-06-30T14:41:59.876322Z",
     "shell.execute_reply": "2021-06-30T14:41:59.875334Z",
     "shell.execute_reply.started": "2021-06-30T14:41:59.860029Z"
    }
   },
   "outputs": [
    {
     "data": {
      "text/html": [
       "<div>\n",
       "<style scoped>\n",
       "    .dataframe tbody tr th:only-of-type {\n",
       "        vertical-align: middle;\n",
       "    }\n",
       "\n",
       "    .dataframe tbody tr th {\n",
       "        vertical-align: top;\n",
       "    }\n",
       "\n",
       "    .dataframe thead th {\n",
       "        text-align: right;\n",
       "    }\n",
       "</style>\n",
       "<table border=\"1\" class=\"dataframe\">\n",
       "  <thead>\n",
       "    <tr style=\"text-align: right;\">\n",
       "      <th></th>\n",
       "      <th>row_id</th>\n",
       "      <th>target</th>\n",
       "      <th>stock_id</th>\n",
       "    </tr>\n",
       "  </thead>\n",
       "  <tbody>\n",
       "    <tr>\n",
       "      <th>0</th>\n",
       "      <td>0-4</td>\n",
       "      <td>0.003048</td>\n",
       "      <td>0</td>\n",
       "    </tr>\n",
       "    <tr>\n",
       "      <th>1</th>\n",
       "      <td>0-32</td>\n",
       "      <td>0.003048</td>\n",
       "      <td>0</td>\n",
       "    </tr>\n",
       "    <tr>\n",
       "      <th>2</th>\n",
       "      <td>0-34</td>\n",
       "      <td>0.003048</td>\n",
       "      <td>0</td>\n",
       "    </tr>\n",
       "  </tbody>\n",
       "</table>\n",
       "</div>"
      ],
      "text/plain": [
       "  row_id    target stock_id\n",
       "0    0-4  0.003048        0\n",
       "1   0-32  0.003048        0\n",
       "2   0-34  0.003048        0"
      ]
     },
     "execution_count": 44,
     "metadata": {},
     "output_type": "execute_result"
    }
   ],
   "source": [
    "sample[\"stock_id\"] = [s.split(\"-\")[0] for s in sample[\"row_id\"]]\n",
    "sample"
   ]
  },
  {
   "cell_type": "markdown",
   "metadata": {},
   "source": [
    "辞書型の中身を代入"
   ]
  },
  {
   "cell_type": "code",
   "execution_count": 45,
   "metadata": {
    "execution": {
     "iopub.execute_input": "2021-06-30T14:41:59.877943Z",
     "iopub.status.busy": "2021-06-30T14:41:59.877653Z",
     "iopub.status.idle": "2021-06-30T14:41:59.895694Z",
     "shell.execute_reply": "2021-06-30T14:41:59.894762Z",
     "shell.execute_reply.started": "2021-06-30T14:41:59.877914Z"
    }
   },
   "outputs": [
    {
     "data": {
      "text/html": [
       "<div>\n",
       "<style scoped>\n",
       "    .dataframe tbody tr th:only-of-type {\n",
       "        vertical-align: middle;\n",
       "    }\n",
       "\n",
       "    .dataframe tbody tr th {\n",
       "        vertical-align: top;\n",
       "    }\n",
       "\n",
       "    .dataframe thead th {\n",
       "        text-align: right;\n",
       "    }\n",
       "</style>\n",
       "<table border=\"1\" class=\"dataframe\">\n",
       "  <thead>\n",
       "    <tr style=\"text-align: right;\">\n",
       "      <th></th>\n",
       "      <th>row_id</th>\n",
       "      <th>target</th>\n",
       "      <th>stock_id</th>\n",
       "    </tr>\n",
       "  </thead>\n",
       "  <tbody>\n",
       "    <tr>\n",
       "      <th>0</th>\n",
       "      <td>0-4</td>\n",
       "      <td>0.00318</td>\n",
       "      <td>0</td>\n",
       "    </tr>\n",
       "    <tr>\n",
       "      <th>1</th>\n",
       "      <td>0-32</td>\n",
       "      <td>0.00318</td>\n",
       "      <td>0</td>\n",
       "    </tr>\n",
       "    <tr>\n",
       "      <th>2</th>\n",
       "      <td>0-34</td>\n",
       "      <td>0.00318</td>\n",
       "      <td>0</td>\n",
       "    </tr>\n",
       "  </tbody>\n",
       "</table>\n",
       "</div>"
      ],
      "text/plain": [
       "  row_id   target stock_id\n",
       "0    0-4  0.00318        0\n",
       "1   0-32  0.00318        0\n",
       "2   0-34  0.00318        0"
      ]
     },
     "execution_count": 45,
     "metadata": {},
     "output_type": "execute_result"
    }
   ],
   "source": [
    "sample[\"target\"] = [stock_dict[\"median\"][int(s)] for s in sample[\"stock_id\"]]\n",
    "sample"
   ]
  },
  {
   "cell_type": "markdown",
   "metadata": {},
   "source": [
    "stock_id削除"
   ]
  },
  {
   "cell_type": "code",
   "execution_count": 46,
   "metadata": {
    "execution": {
     "iopub.execute_input": "2021-06-30T14:41:59.89757Z",
     "iopub.status.busy": "2021-06-30T14:41:59.897156Z",
     "iopub.status.idle": "2021-06-30T14:41:59.915116Z",
     "shell.execute_reply": "2021-06-30T14:41:59.914021Z",
     "shell.execute_reply.started": "2021-06-30T14:41:59.89753Z"
    }
   },
   "outputs": [
    {
     "data": {
      "text/html": [
       "<div>\n",
       "<style scoped>\n",
       "    .dataframe tbody tr th:only-of-type {\n",
       "        vertical-align: middle;\n",
       "    }\n",
       "\n",
       "    .dataframe tbody tr th {\n",
       "        vertical-align: top;\n",
       "    }\n",
       "\n",
       "    .dataframe thead th {\n",
       "        text-align: right;\n",
       "    }\n",
       "</style>\n",
       "<table border=\"1\" class=\"dataframe\">\n",
       "  <thead>\n",
       "    <tr style=\"text-align: right;\">\n",
       "      <th></th>\n",
       "      <th>row_id</th>\n",
       "      <th>target</th>\n",
       "    </tr>\n",
       "  </thead>\n",
       "  <tbody>\n",
       "    <tr>\n",
       "      <th>0</th>\n",
       "      <td>0-4</td>\n",
       "      <td>0.00318</td>\n",
       "    </tr>\n",
       "    <tr>\n",
       "      <th>1</th>\n",
       "      <td>0-32</td>\n",
       "      <td>0.00318</td>\n",
       "    </tr>\n",
       "    <tr>\n",
       "      <th>2</th>\n",
       "      <td>0-34</td>\n",
       "      <td>0.00318</td>\n",
       "    </tr>\n",
       "  </tbody>\n",
       "</table>\n",
       "</div>"
      ],
      "text/plain": [
       "  row_id   target\n",
       "0    0-4  0.00318\n",
       "1   0-32  0.00318\n",
       "2   0-34  0.00318"
      ]
     },
     "execution_count": 46,
     "metadata": {},
     "output_type": "execute_result"
    }
   ],
   "source": [
    "sample = sample.drop(\"stock_id\",axis=1)\n",
    "sample"
   ]
  },
  {
   "cell_type": "code",
   "execution_count": 47,
   "metadata": {
    "execution": {
     "iopub.execute_input": "2021-06-30T14:41:59.916538Z",
     "iopub.status.busy": "2021-06-30T14:41:59.916268Z",
     "iopub.status.idle": "2021-06-30T14:41:59.923099Z",
     "shell.execute_reply": "2021-06-30T14:41:59.922467Z",
     "shell.execute_reply.started": "2021-06-30T14:41:59.916514Z"
    }
   },
   "outputs": [],
   "source": [
    "sample.to_csv(\"submission.csv\",index=False)"
   ]
  },
  {
   "cell_type": "code",
   "execution_count": null,
   "metadata": {},
   "outputs": [],
   "source": []
  }
 ],
 "metadata": {
  "kernelspec": {
   "display_name": "Python 3",
   "language": "python",
   "name": "python3"
  },
  "language_info": {
   "codemirror_mode": {
    "name": "ipython",
    "version": 3
   },
   "file_extension": ".py",
   "mimetype": "text/x-python",
   "name": "python",
   "nbconvert_exporter": "python",
   "pygments_lexer": "ipython3",
   "version": "3.8.5"
  }
 },
 "nbformat": 4,
 "nbformat_minor": 4
}
