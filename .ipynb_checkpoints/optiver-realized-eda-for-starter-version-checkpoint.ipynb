{
 "cells": [
  {
   "cell_type": "markdown",
   "metadata": {},
   "source": [
    "# Optiver Realized Volatility Prediction\n",
    "データサイエンスのスキルを応用して、金融市場を改善します\n",
    "\n",
    "\n",
    "## ※　English version is here.\n",
    "\n",
    "https://www.kaggle.com/chumajin/optiver-realized-eda-for-starter-english-version\n",
    "\n",
    "\n",
    "## このコンペは、株のボラティリティ(価格変動の度合い)を時間(time id)ごとに予測するコンペだと思います。\n",
    "\n",
    "\n",
    "## 少しでもお役に立てば、**upvote**して頂けると嬉しいです。\n",
    "　※　以前も私のnotebookにupvoteしてくれた方ありがとうございます。\n",
    " \n",
    " \n",
    " \n",
    " \n"
   ]
  },
  {
   "cell_type": "code",
   "execution_count": null,
   "metadata": {
    "execution": {
     "iopub.execute_input": "2021-06-30T14:41:57.184019Z",
     "iopub.status.busy": "2021-06-30T14:41:57.183355Z",
     "iopub.status.idle": "2021-06-30T14:41:57.192571Z",
     "shell.execute_reply": "2021-06-30T14:41:57.191859Z",
     "shell.execute_reply.started": "2021-06-30T14:41:57.183927Z"
    }
   },
   "outputs": [],
   "source": [
    "import pandas as pd\n",
    "import numpy as np\n",
    "import matplotlib.pyplot as plt"
   ]
  },
  {
   "cell_type": "markdown",
   "metadata": {},
   "source": [
    "# 1. 何を予測するか(submission.csvから見ます)"
   ]
  },
  {
   "cell_type": "code",
   "execution_count": null,
   "metadata": {
    "execution": {
     "iopub.execute_input": "2021-06-30T14:41:57.194179Z",
     "iopub.status.busy": "2021-06-30T14:41:57.19375Z",
     "iopub.status.idle": "2021-06-30T14:41:57.23505Z",
     "shell.execute_reply": "2021-06-30T14:41:57.234155Z",
     "shell.execute_reply.started": "2021-06-30T14:41:57.194112Z"
    }
   },
   "outputs": [],
   "source": [
    "sample = pd.read_csv(\"../input/optiver-realized-volatility-prediction/sample_submission.csv\")\n",
    "sample"
   ]
  },
  {
   "cell_type": "markdown",
   "metadata": {},
   "source": [
    "### row_idとtargetしかありません。\n",
    "### targetはボラティリティ(価格変動の度合い)でそれを予測するコンペなのだと思います。\n",
    "### row_idとは何かは次を参照。"
   ]
  },
  {
   "cell_type": "markdown",
   "metadata": {},
   "source": [
    "# 2. 何から予測するか(test.csvから見ます)"
   ]
  },
  {
   "cell_type": "code",
   "execution_count": null,
   "metadata": {
    "execution": {
     "iopub.execute_input": "2021-06-30T14:41:57.237077Z",
     "iopub.status.busy": "2021-06-30T14:41:57.236786Z",
     "iopub.status.idle": "2021-06-30T14:41:57.253917Z",
     "shell.execute_reply": "2021-06-30T14:41:57.253193Z",
     "shell.execute_reply.started": "2021-06-30T14:41:57.237048Z"
    }
   },
   "outputs": [],
   "source": [
    "test = pd.read_csv(\"../input/optiver-realized-volatility-prediction/test.csv\")\n",
    "test"
   ]
  },
  {
   "cell_type": "markdown",
   "metadata": {},
   "source": [
    "#### submissionファイルのrow_idはstock_id(株のid)とtime_id(時間のid)を-でつなげたものということがわかる。\n"
   ]
  },
  {
   "cell_type": "markdown",
   "metadata": {},
   "source": [
    "#### さらにtest.csvには、book_test.parquetとtrade_test.parquetというものがついています。今回はstock_id = 0のものだけ。中身を見てみる\n",
    "※　ファイルパスでも開くけど、その上のフォルダまでのpathで開くみたいです。"
   ]
  },
  {
   "cell_type": "code",
   "execution_count": null,
   "metadata": {
    "execution": {
     "iopub.execute_input": "2021-06-30T14:41:57.256142Z",
     "iopub.status.busy": "2021-06-30T14:41:57.255553Z",
     "iopub.status.idle": "2021-06-30T14:41:57.36184Z",
     "shell.execute_reply": "2021-06-30T14:41:57.360889Z",
     "shell.execute_reply.started": "2021-06-30T14:41:57.256097Z"
    }
   },
   "outputs": [],
   "source": [
    "book_testparquet = pd.read_parquet(\"../input/optiver-realized-volatility-prediction/book_test.parquet/stock_id=0\")\n",
    "book_testparquet"
   ]
  },
  {
   "cell_type": "code",
   "execution_count": null,
   "metadata": {
    "execution": {
     "iopub.execute_input": "2021-06-30T14:41:57.36335Z",
     "iopub.status.busy": "2021-06-30T14:41:57.363041Z",
     "iopub.status.idle": "2021-06-30T14:41:57.38497Z",
     "shell.execute_reply": "2021-06-30T14:41:57.384254Z",
     "shell.execute_reply.started": "2021-06-30T14:41:57.363322Z"
    }
   },
   "outputs": [],
   "source": [
    "trade_testparquet = pd.read_parquet(\"../input/optiver-realized-volatility-prediction/trade_test.parquet/stock_id=0\")\n",
    "trade_testparquet"
   ]
  },
  {
   "cell_type": "markdown",
   "metadata": {},
   "source": [
    "#### これらの情報から、株のボラティリティ(価格変動の度合い)を当てるコンペだと思います。\n",
    "#### 以上を踏まえて、各項目の解説を含めてtrain.csvを見ていき,EDAしてお試しでsubmitしていきます。"
   ]
  },
  {
   "cell_type": "code",
   "execution_count": null,
   "metadata": {},
   "outputs": [],
   "source": []
  },
  {
   "cell_type": "code",
   "execution_count": null,
   "metadata": {},
   "outputs": [],
   "source": []
  },
  {
   "cell_type": "markdown",
   "metadata": {},
   "source": [
    "# 3. train.csv"
   ]
  },
  {
   "cell_type": "code",
   "execution_count": null,
   "metadata": {
    "execution": {
     "iopub.execute_input": "2021-06-30T14:41:57.386622Z",
     "iopub.status.busy": "2021-06-30T14:41:57.386199Z",
     "iopub.status.idle": "2021-06-30T14:41:57.648981Z",
     "shell.execute_reply": "2021-06-30T14:41:57.648247Z",
     "shell.execute_reply.started": "2021-06-30T14:41:57.386572Z"
    }
   },
   "outputs": [],
   "source": [
    "train = pd.read_csv(\"../input/optiver-realized-volatility-prediction/train.csv\")\n",
    "train"
   ]
  },
  {
   "cell_type": "markdown",
   "metadata": {},
   "source": [
    "#### とても単純な構成。株のstock_idとtime_id、targetの値が出ています。\n",
    "#### targetはDataに解説あるように、10分間のtotalボラティリティだと思います（これを学習のtargetとします。）"
   ]
  },
  {
   "cell_type": "markdown",
   "metadata": {},
   "source": [
    "# 4. train.parquet"
   ]
  },
  {
   "cell_type": "markdown",
   "metadata": {},
   "source": [
    "#### testデータでの解説と同様に、train.csvに付随したファイルとして、book_train.parquetとtrade_train.parquetいうファイルがついています。\n",
    "#### 例えばtrain.csvの一番上の株の銘柄 stock_id=0のそれぞれのparquetファイルを見てみます。"
   ]
  },
  {
   "cell_type": "code",
   "execution_count": null,
   "metadata": {},
   "outputs": [],
   "source": []
  },
  {
   "cell_type": "markdown",
   "metadata": {},
   "source": [
    "## **4.1 book_train.parquet**\n",
    "\n",
    "\n",
    "#### 市場に投入された最も競争力のある売買注文に関するオーダーブックデータを提供します。\n",
    "#### bookの上位2つのレベルが共有されます。bookの第1レベルは価格面でより競争力があり、第2レベルよりも実行が優先されます。\n"
   ]
  },
  {
   "cell_type": "markdown",
   "metadata": {},
   "source": [
    "******補足(個人的解釈)******\n",
    "\n",
    "オーダーbookデータは予約状況だと思います。この値段まで下がってきたら、買う。上がってきたら売るみたいな予約情報です。"
   ]
  },
  {
   "cell_type": "code",
   "execution_count": null,
   "metadata": {
    "execution": {
     "iopub.execute_input": "2021-06-30T14:41:57.652317Z",
     "iopub.status.busy": "2021-06-30T14:41:57.651666Z",
     "iopub.status.idle": "2021-06-30T14:41:58.121224Z",
     "shell.execute_reply": "2021-06-30T14:41:58.120208Z",
     "shell.execute_reply.started": "2021-06-30T14:41:57.652271Z"
    }
   },
   "outputs": [],
   "source": [
    "book_example = pd.read_parquet('../input/optiver-realized-volatility-prediction/book_train.parquet/stock_id=0')\n",
    "book_example"
   ]
  },
  {
   "cell_type": "markdown",
   "metadata": {},
   "source": [
    "Bid（売値） は、買い手が株を買う上で希望する価格で、Ask（買値）は、売り手が株を売る上で希望する価格です。\n",
    "わかりやすく言い換えると、\n",
    "\n",
    "* stock_id : 株の銘柄（どの株か）\n",
    "* time_id : どの時間の情報かのid (submissionファイルのtime_idと連動しています)\n",
    "* seconds_in_bucket : time_idの中で、0からスタートして何秒後か。たぶん予測するのは、10分のtotalなので、seconds_in_bucketは、最大600 secのはず\n",
    "* bid_price1,2 : 株の買値の希望値の１番目と２番目\n",
    "※　(Normalized prices of the most/second most competitive buy level. だから、正確には、１番と２番目に正規化されたレベルの買値。\n",
    "\n",
    "→買値の希望値をみんな出しているけど、それの正規化したときに一番多い値と２番目に多い値と推測。以下askも逆の現象。)\n",
    "\n",
    "\n",
    "* ask_price1,2 : 株の売り値の希望値\n",
    "* bid_size1,2 : 買うのを希望している側の１番目と２番目の株式数\n",
    "* ask_size1,2 : 売るのを希望している側の１番目と２番目の株式数\n",
    "\n",
    "\n",
    "※　parquetはロード時にカテゴリデータ型に強制することに注意が必要らしいです。\n"
   ]
  },
  {
   "cell_type": "code",
   "execution_count": null,
   "metadata": {},
   "outputs": [],
   "source": []
  },
  {
   "cell_type": "code",
   "execution_count": null,
   "metadata": {},
   "outputs": [],
   "source": []
  },
  {
   "cell_type": "markdown",
   "metadata": {},
   "source": [
    "## 4.2 **trade_train.parquet**\n",
    "\n",
    "#### 実際に実行された取引に関するデータが含まれています。\n",
    "#### 通常、市場では、実際の取引よりも受動的な売買意図の更新（bookの更新）が多いため、このファイルは注文書よりもまばらであると予想される場合があります。"
   ]
  },
  {
   "cell_type": "markdown",
   "metadata": {},
   "source": [
    "******補足(個人的解釈)******\n",
    "\n",
    "リアルタイムで実際に取引された量。買い手がこの値段でこの数量買い、売り手がこの値段でこの数量売ったと推測。"
   ]
  },
  {
   "cell_type": "code",
   "execution_count": null,
   "metadata": {
    "execution": {
     "iopub.execute_input": "2021-06-30T14:41:58.124006Z",
     "iopub.status.busy": "2021-06-30T14:41:58.123595Z",
     "iopub.status.idle": "2021-06-30T14:41:58.174751Z",
     "shell.execute_reply": "2021-06-30T14:41:58.174066Z",
     "shell.execute_reply.started": "2021-06-30T14:41:58.123963Z"
    }
   },
   "outputs": [],
   "source": [
    "trade_example = pd.read_parquet(\"../input/optiver-realized-volatility-prediction/trade_train.parquet/stock_id=0\")\n",
    "trade_example"
   ]
  },
  {
   "cell_type": "markdown",
   "metadata": {},
   "source": [
    "* stock_id - 同上。\n",
    "* time_id - 同上。\n",
    "* seconds_in_bucket- 同上。トレードデータとブックデータは同じ時間枠から取得され、トレードデータは一般にまばらであるため、このフィールドは必ずしも0から始まるとは限らないことに注意してください。\n",
    "* price-1秒間に発生する実行済みトランザクションの平均価格。価格は正規化されており、平均は各トランザクションで取引された株式数によって重み付けされています。\n",
    "* size -取引された株式の総数。\n",
    "* order_count -発生している固有の取引注文の数。"
   ]
  },
  {
   "cell_type": "markdown",
   "metadata": {},
   "source": [
    "#### 一番上に示したtestデータもtrainデータと同じ構造です。testデータには、targetだけないので、それを予測します。"
   ]
  },
  {
   "cell_type": "code",
   "execution_count": null,
   "metadata": {},
   "outputs": [],
   "source": []
  },
  {
   "cell_type": "code",
   "execution_count": null,
   "metadata": {},
   "outputs": [],
   "source": []
  },
  {
   "cell_type": "markdown",
   "metadata": {},
   "source": [
    "# 5. EDA"
   ]
  },
  {
   "cell_type": "markdown",
   "metadata": {
    "execution": {
     "iopub.execute_input": "2021-06-28T16:17:32.239337Z",
     "iopub.status.busy": "2021-06-28T16:17:32.238951Z",
     "iopub.status.idle": "2021-06-28T16:17:32.244581Z",
     "shell.execute_reply": "2021-06-28T16:17:32.243275Z",
     "shell.execute_reply.started": "2021-06-28T16:17:32.239307Z"
    }
   },
   "source": [
    "## 5.1 株式ごとの解析\n",
    "### 5.1.1 株の数"
   ]
  },
  {
   "cell_type": "code",
   "execution_count": null,
   "metadata": {
    "execution": {
     "iopub.execute_input": "2021-06-30T14:41:58.176312Z",
     "iopub.status.busy": "2021-06-30T14:41:58.175829Z",
     "iopub.status.idle": "2021-06-30T14:41:58.189351Z",
     "shell.execute_reply": "2021-06-30T14:41:58.188314Z",
     "shell.execute_reply.started": "2021-06-30T14:41:58.176276Z"
    }
   },
   "outputs": [],
   "source": [
    "train"
   ]
  },
  {
   "cell_type": "code",
   "execution_count": null,
   "metadata": {
    "execution": {
     "iopub.execute_input": "2021-06-30T14:41:58.191243Z",
     "iopub.status.busy": "2021-06-30T14:41:58.190698Z",
     "iopub.status.idle": "2021-06-30T14:41:58.275709Z",
     "shell.execute_reply": "2021-06-30T14:41:58.274966Z",
     "shell.execute_reply.started": "2021-06-30T14:41:58.19121Z"
    }
   },
   "outputs": [],
   "source": [
    "for col in train.columns:\n",
    "    print(col,\":\",len(train[col].unique()))"
   ]
  },
  {
   "cell_type": "markdown",
   "metadata": {},
   "source": [
    "## stock_id(株の銘柄) は112種類、time_idは3830種類、targetは414287種類ある"
   ]
  },
  {
   "cell_type": "markdown",
   "metadata": {},
   "source": [
    "## 5.1.2 株ごとの統計量"
   ]
  },
  {
   "cell_type": "code",
   "execution_count": null,
   "metadata": {
    "execution": {
     "iopub.execute_input": "2021-06-30T14:41:58.277183Z",
     "iopub.status.busy": "2021-06-30T14:41:58.276757Z",
     "iopub.status.idle": "2021-06-30T14:41:58.337526Z",
     "shell.execute_reply": "2021-06-30T14:41:58.336723Z",
     "shell.execute_reply.started": "2021-06-30T14:41:58.277136Z"
    }
   },
   "outputs": [],
   "source": [
    "stock = train.groupby(\"stock_id\")[\"target\"].agg([\"mean\",\"median\",\"std\",\"count\",\"sum\"]).reset_index()\n",
    "stock"
   ]
  },
  {
   "cell_type": "markdown",
   "metadata": {},
   "source": [
    "#### mean値とsumだけヒストグラム見てみます。"
   ]
  },
  {
   "cell_type": "code",
   "execution_count": null,
   "metadata": {
    "execution": {
     "iopub.execute_input": "2021-06-30T14:41:58.339032Z",
     "iopub.status.busy": "2021-06-30T14:41:58.338621Z",
     "iopub.status.idle": "2021-06-30T14:41:58.527756Z",
     "shell.execute_reply": "2021-06-30T14:41:58.526598Z",
     "shell.execute_reply.started": "2021-06-30T14:41:58.338999Z"
    }
   },
   "outputs": [],
   "source": [
    "print(\"mean value=\" ,stock[\"mean\"].mean())\n",
    "plt.hist(stock[\"mean\"])"
   ]
  },
  {
   "cell_type": "markdown",
   "metadata": {},
   "source": [
    "## 平均値は0.003とほぼ0に近い"
   ]
  },
  {
   "cell_type": "code",
   "execution_count": null,
   "metadata": {
    "execution": {
     "iopub.execute_input": "2021-06-30T14:41:58.529235Z",
     "iopub.status.busy": "2021-06-30T14:41:58.528925Z",
     "iopub.status.idle": "2021-06-30T14:41:58.674482Z",
     "shell.execute_reply": "2021-06-30T14:41:58.673478Z",
     "shell.execute_reply.started": "2021-06-30T14:41:58.529195Z"
    }
   },
   "outputs": [],
   "source": [
    "print(\"sum value=\" ,stock[\"sum\"].mean())\n",
    "plt.hist(stock[\"sum\"])"
   ]
  },
  {
   "cell_type": "markdown",
   "metadata": {},
   "source": [
    "## この期間のtotalボラティリティは、平均14.8, maxだと30を超える銘柄も存在。"
   ]
  },
  {
   "cell_type": "code",
   "execution_count": null,
   "metadata": {},
   "outputs": [],
   "source": []
  },
  {
   "cell_type": "markdown",
   "metadata": {},
   "source": [
    "--------------以下、stock id = 0のtime_id = 5の10分間のふるまいを見ていきます -------------"
   ]
  },
  {
   "cell_type": "markdown",
   "metadata": {},
   "source": [
    "## 5.2 time_id内でのBid,Ask,実際の取引のふるまい価格の関係"
   ]
  },
  {
   "cell_type": "code",
   "execution_count": null,
   "metadata": {
    "execution": {
     "iopub.execute_input": "2021-06-30T14:41:58.675971Z",
     "iopub.status.busy": "2021-06-30T14:41:58.67569Z",
     "iopub.status.idle": "2021-06-30T14:41:58.695396Z",
     "shell.execute_reply": "2021-06-30T14:41:58.694262Z",
     "shell.execute_reply.started": "2021-06-30T14:41:58.675945Z"
    }
   },
   "outputs": [],
   "source": [
    "book_example"
   ]
  },
  {
   "cell_type": "code",
   "execution_count": null,
   "metadata": {
    "execution": {
     "iopub.execute_input": "2021-06-30T14:41:58.697306Z",
     "iopub.status.busy": "2021-06-30T14:41:58.696886Z",
     "iopub.status.idle": "2021-06-30T14:41:58.735905Z",
     "shell.execute_reply": "2021-06-30T14:41:58.735004Z",
     "shell.execute_reply.started": "2021-06-30T14:41:58.697263Z"
    }
   },
   "outputs": [],
   "source": [
    "book_test = book_example[book_example[\"time_id\"]==5]\n",
    "book_test"
   ]
  },
  {
   "cell_type": "markdown",
   "metadata": {},
   "source": [
    "## 5.2.1 価格変動 (個別 + 全体を重ねたもの)\n",
    "\n",
    "#### まずは、オーダーブック情報"
   ]
  },
  {
   "cell_type": "code",
   "execution_count": null,
   "metadata": {
    "execution": {
     "iopub.execute_input": "2021-06-30T14:41:58.737526Z",
     "iopub.status.busy": "2021-06-30T14:41:58.737259Z",
     "iopub.status.idle": "2021-06-30T14:41:59.460018Z",
     "shell.execute_reply": "2021-06-30T14:41:59.457626Z",
     "shell.execute_reply.started": "2021-06-30T14:41:58.7375Z"
    }
   },
   "outputs": [],
   "source": [
    "samples = [\"bid_price1\",\"bid_price2\",\"ask_price1\",\"ask_price2\"]\n",
    "\n",
    "for num,a in enumerate(samples):\n",
    "    plt.figure(figsize=(20,5))\n",
    "   \n",
    "    plt.subplot(4,1,num+1)\n",
    "    plt.plot(book_test[\"seconds_in_bucket\"],book_test[a])\n",
    "    plt.title(a)\n",
    "plt.show()\n",
    "plt.figure(figsize=(20,5))\n",
    "\n",
    "for num,a in enumerate(samples):\n",
    "    \n",
    "   \n",
    "    plt.plot(book_test[\"seconds_in_bucket\"],book_test[a],label=a)\n",
    "plt.legend(fontsize=12)\n"
   ]
  },
  {
   "cell_type": "markdown",
   "metadata": {},
   "source": [
    "#### これに実際の取引情報を追記します。"
   ]
  },
  {
   "cell_type": "code",
   "execution_count": null,
   "metadata": {
    "execution": {
     "iopub.execute_input": "2021-06-30T14:41:59.4623Z",
     "iopub.status.busy": "2021-06-30T14:41:59.461794Z",
     "iopub.status.idle": "2021-06-30T14:41:59.48227Z",
     "shell.execute_reply": "2021-06-30T14:41:59.481206Z",
     "shell.execute_reply.started": "2021-06-30T14:41:59.462252Z"
    }
   },
   "outputs": [],
   "source": [
    "trade_example"
   ]
  },
  {
   "cell_type": "code",
   "execution_count": null,
   "metadata": {
    "execution": {
     "iopub.execute_input": "2021-06-30T14:41:59.484221Z",
     "iopub.status.busy": "2021-06-30T14:41:59.48379Z",
     "iopub.status.idle": "2021-06-30T14:41:59.502199Z",
     "shell.execute_reply": "2021-06-30T14:41:59.501297Z",
     "shell.execute_reply.started": "2021-06-30T14:41:59.484157Z"
    }
   },
   "outputs": [],
   "source": [
    "trade_test = trade_example[trade_example[\"time_id\"]==5]\n",
    "trade_test.head(5)"
   ]
  },
  {
   "cell_type": "code",
   "execution_count": null,
   "metadata": {},
   "outputs": [],
   "source": []
  },
  {
   "cell_type": "markdown",
   "metadata": {},
   "source": [
    "#### 全体のグラフに、実際の取引を加えてみる"
   ]
  },
  {
   "cell_type": "code",
   "execution_count": null,
   "metadata": {
    "execution": {
     "iopub.execute_input": "2021-06-30T14:41:59.506021Z",
     "iopub.status.busy": "2021-06-30T14:41:59.505735Z",
     "iopub.status.idle": "2021-06-30T14:41:59.779367Z",
     "shell.execute_reply": "2021-06-30T14:41:59.777581Z",
     "shell.execute_reply.started": "2021-06-30T14:41:59.505995Z"
    }
   },
   "outputs": [],
   "source": [
    "plt.figure(figsize=(20,5))\n",
    "\n",
    "for num,a in enumerate(samples):\n",
    "    \n",
    "   \n",
    "    plt.plot(book_test[\"seconds_in_bucket\"],book_test[a],label=a)\n",
    "    \n",
    "plt.plot(trade_test[\"seconds_in_bucket\"],trade_test[\"price\"],label=\"trade_parquet\",lw=10)\n",
    "plt.legend(fontsize=12)"
   ]
  },
  {
   "cell_type": "markdown",
   "metadata": {},
   "source": [
    "## 紫が実際の取引。オーダーブックのbidとaskの間をうろうろしている。\n",
    "\n",
    "#### ※bitやaskのところ近づいたら、攻防があって、超えたらブレイクしてなどその辺は専門家に任せます。"
   ]
  },
  {
   "cell_type": "code",
   "execution_count": null,
   "metadata": {},
   "outputs": [],
   "source": []
  },
  {
   "cell_type": "markdown",
   "metadata": {},
   "source": [
    "#### time id5の10分間の中でも、bidとaskの値は変動していることがわかる。これのばらつきが大きいとボラティリティと関係するかもしれない。\n",
    "#### 例えば、急に株価を変動するニュースが入った時に、ボラティリティがボーンと上がって、\n",
    "#### 乱高下するとばらつきとかが増えるのかもと推測。Max-Minとかも重要かも。(ボラティリティを予測するから逆の発想ですね)"
   ]
  },
  {
   "cell_type": "code",
   "execution_count": null,
   "metadata": {},
   "outputs": [],
   "source": []
  },
  {
   "cell_type": "markdown",
   "metadata": {},
   "source": [
    "## 5.2.2 ボラティリティのイメージ"
   ]
  },
  {
   "cell_type": "markdown",
   "metadata": {},
   "source": [
    "stock_id = 0で最もボラティリティが低かった時をグラフにしてみます。"
   ]
  },
  {
   "cell_type": "code",
   "execution_count": null,
   "metadata": {
    "_kg_hide-input": true,
    "execution": {
     "iopub.execute_input": "2021-06-30T15:02:11.459331Z",
     "iopub.status.busy": "2021-06-30T15:02:11.45884Z",
     "iopub.status.idle": "2021-06-30T15:02:11.471898Z",
     "shell.execute_reply": "2021-06-30T15:02:11.47067Z",
     "shell.execute_reply.started": "2021-06-30T15:02:11.459285Z"
    }
   },
   "outputs": [],
   "source": [
    "stock0 = train[train[\"stock_id\"]==0]\n",
    "min_index = stock0[\"target\"].idxmin()\n",
    "min_time_id = stock0.iloc[min_index][\"time_id\"]\n",
    "print(\"min index is\",min_time_id,\"min target is\",stock0.iloc[min_index][\"target\"])"
   ]
  },
  {
   "cell_type": "code",
   "execution_count": null,
   "metadata": {
    "_kg_hide-input": true,
    "execution": {
     "iopub.execute_input": "2021-06-30T15:02:13.350901Z",
     "iopub.status.busy": "2021-06-30T15:02:13.350565Z",
     "iopub.status.idle": "2021-06-30T15:02:13.587397Z",
     "shell.execute_reply": "2021-06-30T15:02:13.586368Z",
     "shell.execute_reply.started": "2021-06-30T15:02:13.350872Z"
    }
   },
   "outputs": [],
   "source": [
    "book_test_min = book_example[book_example[\"time_id\"]==min_time_id]\n",
    "trade_test_min = trade_example[trade_example[\"time_id\"]==min_time_id]\n",
    "\n",
    "\n",
    "plt.figure(figsize=(20,5))\n",
    "\n",
    "for num,a in enumerate(samples):\n",
    "    \n",
    "   \n",
    "    plt.plot(book_test_min[\"seconds_in_bucket\"],book_test_min[a],label=a)\n",
    "    \n",
    "plt.plot(trade_test_min[\"seconds_in_bucket\"],trade_test_min[\"price\"],label=\"trade_parquet\",lw=10)\n",
    "plt.legend(fontsize=12)"
   ]
  },
  {
   "cell_type": "markdown",
   "metadata": {},
   "source": [
    "stock_id = 0で最もボラティリティが高かった時をグラフにしてみます。"
   ]
  },
  {
   "cell_type": "code",
   "execution_count": null,
   "metadata": {
    "_kg_hide-input": true,
    "execution": {
     "iopub.execute_input": "2021-06-30T15:01:33.202929Z",
     "iopub.status.busy": "2021-06-30T15:01:33.202575Z",
     "iopub.status.idle": "2021-06-30T15:01:33.214853Z",
     "shell.execute_reply": "2021-06-30T15:01:33.213497Z",
     "shell.execute_reply.started": "2021-06-30T15:01:33.202901Z"
    }
   },
   "outputs": [],
   "source": [
    "stock0 = train[train[\"stock_id\"]==0]\n",
    "max_index = stock0[\"target\"].idxmax()\n",
    "max_time_id = stock0.iloc[max_index][\"time_id\"]\n",
    "print(\"max index is\",max_time_id,\"max target is\",stock0.iloc[max_index][\"target\"])"
   ]
  },
  {
   "cell_type": "code",
   "execution_count": null,
   "metadata": {
    "_kg_hide-input": true,
    "execution": {
     "iopub.execute_input": "2021-06-30T14:58:14.032357Z",
     "iopub.status.busy": "2021-06-30T14:58:14.031992Z",
     "iopub.status.idle": "2021-06-30T14:58:14.242192Z",
     "shell.execute_reply": "2021-06-30T14:58:14.241063Z",
     "shell.execute_reply.started": "2021-06-30T14:58:14.032327Z"
    }
   },
   "outputs": [],
   "source": [
    "book_test_max = book_example[book_example[\"time_id\"]==max_time_id]\n",
    "trade_test_max = trade_example[trade_example[\"time_id\"]==max_time_id]\n",
    "\n",
    "\n",
    "plt.figure(figsize=(20,5))\n",
    "\n",
    "for num,a in enumerate(samples):\n",
    "    \n",
    "   \n",
    "    plt.plot(book_test_max[\"seconds_in_bucket\"],book_test_max[a],label=a)\n",
    "    \n",
    "plt.plot(trade_test_max[\"seconds_in_bucket\"],trade_test_max[\"price\"],label=\"trade_parquet\",lw=10)\n",
    "plt.legend(fontsize=12)"
   ]
  },
  {
   "cell_type": "markdown",
   "metadata": {},
   "source": [
    "#### 縦軸のスケールが全然違うので、実際の取引を重ねてみます。"
   ]
  },
  {
   "cell_type": "code",
   "execution_count": null,
   "metadata": {
    "_kg_hide-input": true,
    "execution": {
     "iopub.execute_input": "2021-06-30T15:01:01.518273Z",
     "iopub.status.busy": "2021-06-30T15:01:01.517874Z",
     "iopub.status.idle": "2021-06-30T15:01:01.709524Z",
     "shell.execute_reply": "2021-06-30T15:01:01.70855Z",
     "shell.execute_reply.started": "2021-06-30T15:01:01.518236Z"
    }
   },
   "outputs": [],
   "source": [
    "plt.figure(figsize=(20,5))\n",
    "plt.plot(trade_test_min[\"seconds_in_bucket\"],trade_test_min[\"price\"],lw=10,label=\"min_vol_time\")\n",
    "plt.plot(trade_test_max[\"seconds_in_bucket\"],trade_test_max[\"price\"],lw=10,label = \"max_vol_time\")\n",
    "plt.legend(fontsize=15)"
   ]
  },
  {
   "cell_type": "markdown",
   "metadata": {},
   "source": [
    "## ボラティリティが高いときはこの場合は、10分間でかなりの価格変動を起こしていることがわかる。\n",
    "#### (ばらつきや、Max-Minはやっぱり大事そう)"
   ]
  },
  {
   "cell_type": "code",
   "execution_count": null,
   "metadata": {},
   "outputs": [],
   "source": []
  },
  {
   "cell_type": "code",
   "execution_count": null,
   "metadata": {},
   "outputs": [],
   "source": []
  },
  {
   "cell_type": "markdown",
   "metadata": {},
   "source": [
    "# 6.submit"
   ]
  },
  {
   "cell_type": "markdown",
   "metadata": {},
   "source": [
    "## お試しで株ごとのmedian値を全部入れてsubmitします"
   ]
  },
  {
   "cell_type": "markdown",
   "metadata": {},
   "source": [
    "## 6.1 株ごとのmedian値のdictionary作成"
   ]
  },
  {
   "cell_type": "code",
   "execution_count": null,
   "metadata": {
    "execution": {
     "iopub.execute_input": "2021-06-30T14:41:59.781955Z",
     "iopub.status.busy": "2021-06-30T14:41:59.781534Z",
     "iopub.status.idle": "2021-06-30T14:41:59.806478Z",
     "shell.execute_reply": "2021-06-30T14:41:59.805386Z",
     "shell.execute_reply.started": "2021-06-30T14:41:59.781908Z"
    }
   },
   "outputs": [],
   "source": [
    "stock"
   ]
  },
  {
   "cell_type": "code",
   "execution_count": null,
   "metadata": {
    "execution": {
     "iopub.execute_input": "2021-06-30T14:41:59.808518Z",
     "iopub.status.busy": "2021-06-30T14:41:59.808117Z",
     "iopub.status.idle": "2021-06-30T14:41:59.825217Z",
     "shell.execute_reply": "2021-06-30T14:41:59.824103Z",
     "shell.execute_reply.started": "2021-06-30T14:41:59.808481Z"
    }
   },
   "outputs": [],
   "source": [
    "stock2 = stock[[\"stock_id\",\"median\"]]\n",
    "stock2 = stock2.set_index(\"stock_id\")\n",
    "stock2"
   ]
  },
  {
   "cell_type": "code",
   "execution_count": null,
   "metadata": {
    "execution": {
     "iopub.execute_input": "2021-06-30T14:41:59.826991Z",
     "iopub.status.busy": "2021-06-30T14:41:59.82669Z",
     "iopub.status.idle": "2021-06-30T14:41:59.840381Z",
     "shell.execute_reply": "2021-06-30T14:41:59.83931Z",
     "shell.execute_reply.started": "2021-06-30T14:41:59.826965Z"
    }
   },
   "outputs": [],
   "source": [
    "stock_dict = stock2.to_dict()\n",
    "# example stock id = 0のmedian値\n",
    "stock_dict[\"median\"][0]"
   ]
  },
  {
   "cell_type": "markdown",
   "metadata": {},
   "source": [
    "## 6.2 submitファイルの置き換えとsubmission fileの生成"
   ]
  },
  {
   "cell_type": "code",
   "execution_count": null,
   "metadata": {
    "execution": {
     "iopub.execute_input": "2021-06-30T14:41:59.842311Z",
     "iopub.status.busy": "2021-06-30T14:41:59.841853Z",
     "iopub.status.idle": "2021-06-30T14:41:59.858698Z",
     "shell.execute_reply": "2021-06-30T14:41:59.857548Z",
     "shell.execute_reply.started": "2021-06-30T14:41:59.84228Z"
    }
   },
   "outputs": [],
   "source": [
    "sample # sample_submission.csvです"
   ]
  },
  {
   "cell_type": "markdown",
   "metadata": {},
   "source": [
    "row_idからstock_id抽出"
   ]
  },
  {
   "cell_type": "code",
   "execution_count": null,
   "metadata": {
    "execution": {
     "iopub.execute_input": "2021-06-30T14:41:59.860056Z",
     "iopub.status.busy": "2021-06-30T14:41:59.859771Z",
     "iopub.status.idle": "2021-06-30T14:41:59.876322Z",
     "shell.execute_reply": "2021-06-30T14:41:59.875334Z",
     "shell.execute_reply.started": "2021-06-30T14:41:59.860029Z"
    }
   },
   "outputs": [],
   "source": [
    "sample[\"stock_id\"] = [s.split(\"-\")[0] for s in sample[\"row_id\"]]\n",
    "sample"
   ]
  },
  {
   "cell_type": "markdown",
   "metadata": {},
   "source": [
    "辞書型の中身を代入"
   ]
  },
  {
   "cell_type": "code",
   "execution_count": null,
   "metadata": {
    "execution": {
     "iopub.execute_input": "2021-06-30T14:41:59.877943Z",
     "iopub.status.busy": "2021-06-30T14:41:59.877653Z",
     "iopub.status.idle": "2021-06-30T14:41:59.895694Z",
     "shell.execute_reply": "2021-06-30T14:41:59.894762Z",
     "shell.execute_reply.started": "2021-06-30T14:41:59.877914Z"
    }
   },
   "outputs": [],
   "source": [
    "sample[\"target\"] = [stock_dict[\"median\"][int(s)] for s in sample[\"stock_id\"]]\n",
    "sample"
   ]
  },
  {
   "cell_type": "markdown",
   "metadata": {},
   "source": [
    "stock_id削除"
   ]
  },
  {
   "cell_type": "code",
   "execution_count": null,
   "metadata": {
    "execution": {
     "iopub.execute_input": "2021-06-30T14:41:59.89757Z",
     "iopub.status.busy": "2021-06-30T14:41:59.897156Z",
     "iopub.status.idle": "2021-06-30T14:41:59.915116Z",
     "shell.execute_reply": "2021-06-30T14:41:59.914021Z",
     "shell.execute_reply.started": "2021-06-30T14:41:59.89753Z"
    }
   },
   "outputs": [],
   "source": [
    "sample = sample.drop(\"stock_id\",axis=1)\n",
    "sample"
   ]
  },
  {
   "cell_type": "code",
   "execution_count": null,
   "metadata": {
    "execution": {
     "iopub.execute_input": "2021-06-30T14:41:59.916538Z",
     "iopub.status.busy": "2021-06-30T14:41:59.916268Z",
     "iopub.status.idle": "2021-06-30T14:41:59.923099Z",
     "shell.execute_reply": "2021-06-30T14:41:59.922467Z",
     "shell.execute_reply.started": "2021-06-30T14:41:59.916514Z"
    }
   },
   "outputs": [],
   "source": [
    "sample.to_csv(\"submission.csv\",index=False)"
   ]
  },
  {
   "cell_type": "markdown",
   "metadata": {},
   "source": [
    "# 最後まで見ていただいてありがとうございます。※以前も私のnotebookにupvoteしてくれた方ありがとうございます。\n",
    "# お役に立てば、**upvote**いただけたら嬉しいです！"
   ]
  },
  {
   "cell_type": "code",
   "execution_count": null,
   "metadata": {},
   "outputs": [],
   "source": []
  }
 ],
 "metadata": {
  "kernelspec": {
   "display_name": "Python 3",
   "language": "python",
   "name": "python3"
  },
  "language_info": {
   "codemirror_mode": {
    "name": "ipython",
    "version": 3
   },
   "file_extension": ".py",
   "mimetype": "text/x-python",
   "name": "python",
   "nbconvert_exporter": "python",
   "pygments_lexer": "ipython3",
   "version": "3.8.5"
  }
 },
 "nbformat": 4,
 "nbformat_minor": 4
}
